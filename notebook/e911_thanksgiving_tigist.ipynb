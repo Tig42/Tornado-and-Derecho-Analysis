{
 "cells": [
  {
   "cell_type": "code",
   "execution_count": 253,
   "id": "b943ebc9",
   "metadata": {},
   "outputs": [],
   "source": [
    "from shapely.geometry import Point\n",
    "import pandas as pd\n",
    "import geopandas as gpd\n",
    "import matplotlib.pyplot as plt\n",
    "import folium\n",
    "from folium.plugins import MarkerCluster\n",
    "from folium.plugins import FastMarkerCluster\n",
    "from shapely.geometry import Point"
   ]
  },
  {
   "cell_type": "code",
   "execution_count": 254,
   "id": "89e3b399",
   "metadata": {},
   "outputs": [],
   "source": [
    "Der_911=pd.read_csv('../data/911_Phone Calls_Derecho_050320_050420.csv')\n",
    "Tor_911=pd.read_csv('../data/911_Phone_Calls_Tornado_030320.csv')\n",
    "Der_incident=pd.read_csv('../data/Computer Aided Dispatch Data_Derecho Incidents 050320-050420.csv')\n",
    "Tor_incident=pd.read_csv('../data/Computer Aided Dispatch Data_Tornado Incidents 030320.csv')"
   ]
  },
  {
   "cell_type": "code",
   "execution_count": 255,
   "id": "5559f1f8",
   "metadata": {},
   "outputs": [
    {
     "data": {
      "text/html": [
       "<div>\n",
       "<style scoped>\n",
       "    .dataframe tbody tr th:only-of-type {\n",
       "        vertical-align: middle;\n",
       "    }\n",
       "\n",
       "    .dataframe tbody tr th {\n",
       "        vertical-align: top;\n",
       "    }\n",
       "\n",
       "    .dataframe thead th {\n",
       "        text-align: right;\n",
       "    }\n",
       "</style>\n",
       "<table border=\"1\" class=\"dataframe\">\n",
       "  <thead>\n",
       "    <tr style=\"text-align: right;\">\n",
       "      <th></th>\n",
       "      <th>Seizure DateTime</th>\n",
       "      <th>CallTypeId</th>\n",
       "      <th>ALI Latitude</th>\n",
       "      <th>ALI Longitude</th>\n",
       "      <th>Cell Tower Address</th>\n",
       "    </tr>\n",
       "  </thead>\n",
       "  <tbody>\n",
       "    <tr>\n",
       "      <th>0</th>\n",
       "      <td>5/3/2020 16:30</td>\n",
       "      <td>911 Calls</td>\n",
       "      <td>36.247802</td>\n",
       "      <td>-86.716847</td>\n",
       "      <td>WIRELESS CALLER</td>\n",
       "    </tr>\n",
       "    <tr>\n",
       "      <th>1</th>\n",
       "      <td>5/3/2020 16:30</td>\n",
       "      <td>911 Calls</td>\n",
       "      <td>36.143108</td>\n",
       "      <td>-86.800621</td>\n",
       "      <td>1161 21ST AV S - SE</td>\n",
       "    </tr>\n",
       "  </tbody>\n",
       "</table>\n",
       "</div>"
      ],
      "text/plain": [
       "  Seizure DateTime CallTypeId  ALI Latitude  ALI Longitude  \\\n",
       "0   5/3/2020 16:30  911 Calls     36.247802     -86.716847   \n",
       "1   5/3/2020 16:30  911 Calls     36.143108     -86.800621   \n",
       "\n",
       "    Cell Tower Address  \n",
       "0      WIRELESS CALLER  \n",
       "1  1161 21ST AV S - SE  "
      ]
     },
     "execution_count": 255,
     "metadata": {},
     "output_type": "execute_result"
    }
   ],
   "source": [
    "Der_911.head(2)\n"
   ]
  },
  {
   "cell_type": "code",
   "execution_count": 256,
   "id": "2a74341c",
   "metadata": {},
   "outputs": [],
   "source": [
    "Der_911=Der_911.rename(columns={'Seizure DateTime':'time','CallTypeId':'call_id','ALI Latitude':'lat','ALI Longitude':'lng','Cell Tower Address':'address' })"
   ]
  },
  {
   "cell_type": "code",
   "execution_count": 257,
   "id": "b93ca3fb",
   "metadata": {},
   "outputs": [
    {
     "data": {
      "text/html": [
       "<div>\n",
       "<style scoped>\n",
       "    .dataframe tbody tr th:only-of-type {\n",
       "        vertical-align: middle;\n",
       "    }\n",
       "\n",
       "    .dataframe tbody tr th {\n",
       "        vertical-align: top;\n",
       "    }\n",
       "\n",
       "    .dataframe thead th {\n",
       "        text-align: right;\n",
       "    }\n",
       "</style>\n",
       "<table border=\"1\" class=\"dataframe\">\n",
       "  <thead>\n",
       "    <tr style=\"text-align: right;\">\n",
       "      <th></th>\n",
       "      <th>time</th>\n",
       "      <th>call_id</th>\n",
       "      <th>lat</th>\n",
       "      <th>lng</th>\n",
       "      <th>address</th>\n",
       "    </tr>\n",
       "  </thead>\n",
       "  <tbody>\n",
       "    <tr>\n",
       "      <th>0</th>\n",
       "      <td>5/3/2020 16:30</td>\n",
       "      <td>911 Calls</td>\n",
       "      <td>36.247802</td>\n",
       "      <td>-86.716847</td>\n",
       "      <td>WIRELESS CALLER</td>\n",
       "    </tr>\n",
       "    <tr>\n",
       "      <th>1</th>\n",
       "      <td>5/3/2020 16:30</td>\n",
       "      <td>911 Calls</td>\n",
       "      <td>36.143108</td>\n",
       "      <td>-86.800621</td>\n",
       "      <td>1161 21ST AV S - SE</td>\n",
       "    </tr>\n",
       "    <tr>\n",
       "      <th>2</th>\n",
       "      <td>5/3/2020 16:30</td>\n",
       "      <td>911 Calls</td>\n",
       "      <td>36.100516</td>\n",
       "      <td>-87.056329</td>\n",
       "      <td>8013 C MCCRORY LN - N</td>\n",
       "    </tr>\n",
       "    <tr>\n",
       "      <th>3</th>\n",
       "      <td>5/3/2020 16:30</td>\n",
       "      <td>911 Calls</td>\n",
       "      <td>36.130021</td>\n",
       "      <td>-86.927819</td>\n",
       "      <td>5758 RIVER RD - SW</td>\n",
       "    </tr>\n",
       "    <tr>\n",
       "      <th>4</th>\n",
       "      <td>5/3/2020 16:31</td>\n",
       "      <td>911 Calls</td>\n",
       "      <td>36.142380</td>\n",
       "      <td>-86.881882</td>\n",
       "      <td>3744B ANNEX AVE - SE</td>\n",
       "    </tr>\n",
       "    <tr>\n",
       "      <th>...</th>\n",
       "      <td>...</td>\n",
       "      <td>...</td>\n",
       "      <td>...</td>\n",
       "      <td>...</td>\n",
       "      <td>...</td>\n",
       "    </tr>\n",
       "    <tr>\n",
       "      <th>1543</th>\n",
       "      <td>5/4/2020 0:16</td>\n",
       "      <td>911 Calls</td>\n",
       "      <td>36.067911</td>\n",
       "      <td>-86.622970</td>\n",
       "      <td>WIRELESS CALLER</td>\n",
       "    </tr>\n",
       "    <tr>\n",
       "      <th>1544</th>\n",
       "      <td>5/4/2020 0:18</td>\n",
       "      <td>911 Calls</td>\n",
       "      <td>36.131694</td>\n",
       "      <td>-86.770535</td>\n",
       "      <td>1823-C 12TH AV - SECTOR SE S</td>\n",
       "    </tr>\n",
       "    <tr>\n",
       "      <th>1545</th>\n",
       "      <td>5/4/2020 0:22</td>\n",
       "      <td>911 Calls</td>\n",
       "      <td>36.042237</td>\n",
       "      <td>-86.743455</td>\n",
       "      <td>5244-C EDMONSON PIKE - SECTOR SE</td>\n",
       "    </tr>\n",
       "    <tr>\n",
       "      <th>1546</th>\n",
       "      <td>5/4/2020 0:25</td>\n",
       "      <td>911 Calls</td>\n",
       "      <td>36.077664</td>\n",
       "      <td>-86.655607</td>\n",
       "      <td>2747-B MURFREESBORO PKE - SECTOR NW</td>\n",
       "    </tr>\n",
       "    <tr>\n",
       "      <th>1547</th>\n",
       "      <td>5/4/2020 0:29</td>\n",
       "      <td>911 Calls</td>\n",
       "      <td>36.024706</td>\n",
       "      <td>-86.743562</td>\n",
       "      <td>302 SUMMIT VIEW DR - E</td>\n",
       "    </tr>\n",
       "  </tbody>\n",
       "</table>\n",
       "<p>1548 rows × 5 columns</p>\n",
       "</div>"
      ],
      "text/plain": [
       "                time    call_id        lat        lng  \\\n",
       "0     5/3/2020 16:30  911 Calls  36.247802 -86.716847   \n",
       "1     5/3/2020 16:30  911 Calls  36.143108 -86.800621   \n",
       "2     5/3/2020 16:30  911 Calls  36.100516 -87.056329   \n",
       "3     5/3/2020 16:30  911 Calls  36.130021 -86.927819   \n",
       "4     5/3/2020 16:31  911 Calls  36.142380 -86.881882   \n",
       "...              ...        ...        ...        ...   \n",
       "1543   5/4/2020 0:16  911 Calls  36.067911 -86.622970   \n",
       "1544   5/4/2020 0:18  911 Calls  36.131694 -86.770535   \n",
       "1545   5/4/2020 0:22  911 Calls  36.042237 -86.743455   \n",
       "1546   5/4/2020 0:25  911 Calls  36.077664 -86.655607   \n",
       "1547   5/4/2020 0:29  911 Calls  36.024706 -86.743562   \n",
       "\n",
       "                                  address  \n",
       "0                         WIRELESS CALLER  \n",
       "1                     1161 21ST AV S - SE  \n",
       "2                   8013 C MCCRORY LN - N  \n",
       "3                      5758 RIVER RD - SW  \n",
       "4                    3744B ANNEX AVE - SE  \n",
       "...                                   ...  \n",
       "1543                      WIRELESS CALLER  \n",
       "1544         1823-C 12TH AV - SECTOR SE S  \n",
       "1545     5244-C EDMONSON PIKE - SECTOR SE  \n",
       "1546  2747-B MURFREESBORO PKE - SECTOR NW  \n",
       "1547               302 SUMMIT VIEW DR - E  \n",
       "\n",
       "[1548 rows x 5 columns]"
      ]
     },
     "execution_count": 257,
     "metadata": {},
     "output_type": "execute_result"
    }
   ],
   "source": [
    "Der_911"
   ]
  },
  {
   "cell_type": "code",
   "execution_count": 258,
   "id": "68e95b30",
   "metadata": {},
   "outputs": [
    {
     "data": {
      "text/html": [
       "<div>\n",
       "<style scoped>\n",
       "    .dataframe tbody tr th:only-of-type {\n",
       "        vertical-align: middle;\n",
       "    }\n",
       "\n",
       "    .dataframe tbody tr th {\n",
       "        vertical-align: top;\n",
       "    }\n",
       "\n",
       "    .dataframe thead th {\n",
       "        text-align: right;\n",
       "    }\n",
       "</style>\n",
       "<table border=\"1\" class=\"dataframe\">\n",
       "  <thead>\n",
       "    <tr style=\"text-align: right;\">\n",
       "      <th></th>\n",
       "      <th>time</th>\n",
       "      <th>call_id</th>\n",
       "      <th>lat</th>\n",
       "      <th>lng</th>\n",
       "      <th>address</th>\n",
       "      <th>geometry</th>\n",
       "    </tr>\n",
       "  </thead>\n",
       "  <tbody>\n",
       "    <tr>\n",
       "      <th>0</th>\n",
       "      <td>5/3/2020 16:30</td>\n",
       "      <td>911 Calls</td>\n",
       "      <td>36.247802</td>\n",
       "      <td>-86.716847</td>\n",
       "      <td>WIRELESS CALLER</td>\n",
       "      <td>POINT (-86.716847 36.247802)</td>\n",
       "    </tr>\n",
       "    <tr>\n",
       "      <th>1</th>\n",
       "      <td>5/3/2020 16:30</td>\n",
       "      <td>911 Calls</td>\n",
       "      <td>36.143108</td>\n",
       "      <td>-86.800621</td>\n",
       "      <td>1161 21ST AV S - SE</td>\n",
       "      <td>POINT (-86.80062100000001 36.143108)</td>\n",
       "    </tr>\n",
       "    <tr>\n",
       "      <th>2</th>\n",
       "      <td>5/3/2020 16:30</td>\n",
       "      <td>911 Calls</td>\n",
       "      <td>36.100516</td>\n",
       "      <td>-87.056329</td>\n",
       "      <td>8013 C MCCRORY LN - N</td>\n",
       "      <td>POINT (-87.05632900000001 36.100516)</td>\n",
       "    </tr>\n",
       "  </tbody>\n",
       "</table>\n",
       "</div>"
      ],
      "text/plain": [
       "             time    call_id        lat        lng                address  \\\n",
       "0  5/3/2020 16:30  911 Calls  36.247802 -86.716847        WIRELESS CALLER   \n",
       "1  5/3/2020 16:30  911 Calls  36.143108 -86.800621    1161 21ST AV S - SE   \n",
       "2  5/3/2020 16:30  911 Calls  36.100516 -87.056329  8013 C MCCRORY LN - N   \n",
       "\n",
       "                               geometry  \n",
       "0          POINT (-86.716847 36.247802)  \n",
       "1  POINT (-86.80062100000001 36.143108)  \n",
       "2  POINT (-87.05632900000001 36.100516)  "
      ]
     },
     "execution_count": 258,
     "metadata": {},
     "output_type": "execute_result"
    }
   ],
   "source": [
    "Der_911['geometry']=Der_911.apply(lambda x: Point((float(x.lng), \n",
    "                                                         float(x.lat))), \n",
    "                                        axis=1)\n",
    "Der_911.head(3)"
   ]
  },
  {
   "cell_type": "code",
   "execution_count": 259,
   "id": "d0fcb1ae",
   "metadata": {},
   "outputs": [
    {
     "data": {
      "text/plain": [
       "geopandas.geodataframe.GeoDataFrame"
      ]
     },
     "execution_count": 259,
     "metadata": {},
     "output_type": "execute_result"
    }
   ],
   "source": [
    "Der_911_geo=gpd.GeoDataFrame(Der_911)\n",
    "type(Der_911_geo)"
   ]
  },
  {
   "cell_type": "code",
   "execution_count": 298,
   "id": "362417c8",
   "metadata": {},
   "outputs": [
    {
     "data": {
      "text/plain": [
       "<AxesSubplot:>"
      ]
     },
     "execution_count": 298,
     "metadata": {},
     "output_type": "execute_result"
    },
    {
     "data": {
      "image/png": "[encoded data removed]",
      "text/plain": [
       "<Figure size 432x288 with 1 Axes>"
      ]
     },
     "metadata": {
      "needs_background": "light"
     },
     "output_type": "display_data"
    }
   ],
   "source": [
    "Der_911_geo.plot()"
   ]
  },
  {
   "cell_type": "code",
   "execution_count": null,
   "id": "1c9e9cfa",
   "metadata": {},
   "outputs": [],
   "source": []
  },
  {
   "cell_type": "code",
   "execution_count": 261,
   "id": "94793006",
   "metadata": {},
   "outputs": [
    {
     "data": {
      "text/html": [
       "<div>\n",
       "<style scoped>\n",
       "    .dataframe tbody tr th:only-of-type {\n",
       "        vertical-align: middle;\n",
       "    }\n",
       "\n",
       "    .dataframe tbody tr th {\n",
       "        vertical-align: top;\n",
       "    }\n",
       "\n",
       "    .dataframe thead th {\n",
       "        text-align: right;\n",
       "    }\n",
       "</style>\n",
       "<table border=\"1\" class=\"dataframe\">\n",
       "  <thead>\n",
       "    <tr style=\"text-align: right;\">\n",
       "      <th></th>\n",
       "      <th>time</th>\n",
       "      <th>call_id</th>\n",
       "      <th>lat</th>\n",
       "      <th>lng</th>\n",
       "      <th>address</th>\n",
       "      <th>geometry</th>\n",
       "    </tr>\n",
       "  </thead>\n",
       "  <tbody>\n",
       "    <tr>\n",
       "      <th>0</th>\n",
       "      <td>2020-05-03 16:30:00</td>\n",
       "      <td>911 Calls</td>\n",
       "      <td>36.247802</td>\n",
       "      <td>-86.716847</td>\n",
       "      <td>WIRELESS CALLER</td>\n",
       "      <td>POINT (-86.71685 36.24780)</td>\n",
       "    </tr>\n",
       "    <tr>\n",
       "      <th>1</th>\n",
       "      <td>2020-05-03 16:30:00</td>\n",
       "      <td>911 Calls</td>\n",
       "      <td>36.143108</td>\n",
       "      <td>-86.800621</td>\n",
       "      <td>1161 21ST AV S - SE</td>\n",
       "      <td>POINT (-86.80062 36.14311)</td>\n",
       "    </tr>\n",
       "    <tr>\n",
       "      <th>2</th>\n",
       "      <td>2020-05-03 16:30:00</td>\n",
       "      <td>911 Calls</td>\n",
       "      <td>36.100516</td>\n",
       "      <td>-87.056329</td>\n",
       "      <td>8013 C MCCRORY LN - N</td>\n",
       "      <td>POINT (-87.05633 36.10052)</td>\n",
       "    </tr>\n",
       "    <tr>\n",
       "      <th>3</th>\n",
       "      <td>2020-05-03 16:30:00</td>\n",
       "      <td>911 Calls</td>\n",
       "      <td>36.130021</td>\n",
       "      <td>-86.927819</td>\n",
       "      <td>5758 RIVER RD - SW</td>\n",
       "      <td>POINT (-86.92782 36.13002)</td>\n",
       "    </tr>\n",
       "    <tr>\n",
       "      <th>4</th>\n",
       "      <td>2020-05-03 16:31:00</td>\n",
       "      <td>911 Calls</td>\n",
       "      <td>36.142380</td>\n",
       "      <td>-86.881882</td>\n",
       "      <td>3744B ANNEX AVE - SE</td>\n",
       "      <td>POINT (-86.88188 36.14238)</td>\n",
       "    </tr>\n",
       "    <tr>\n",
       "      <th>...</th>\n",
       "      <td>...</td>\n",
       "      <td>...</td>\n",
       "      <td>...</td>\n",
       "      <td>...</td>\n",
       "      <td>...</td>\n",
       "      <td>...</td>\n",
       "    </tr>\n",
       "    <tr>\n",
       "      <th>1543</th>\n",
       "      <td>2020-05-04 00:16:00</td>\n",
       "      <td>911 Calls</td>\n",
       "      <td>36.067911</td>\n",
       "      <td>-86.622970</td>\n",
       "      <td>WIRELESS CALLER</td>\n",
       "      <td>POINT (-86.62297 36.06791)</td>\n",
       "    </tr>\n",
       "    <tr>\n",
       "      <th>1544</th>\n",
       "      <td>2020-05-04 00:18:00</td>\n",
       "      <td>911 Calls</td>\n",
       "      <td>36.131694</td>\n",
       "      <td>-86.770535</td>\n",
       "      <td>1823-C 12TH AV - SECTOR SE S</td>\n",
       "      <td>POINT (-86.77053 36.13169)</td>\n",
       "    </tr>\n",
       "    <tr>\n",
       "      <th>1545</th>\n",
       "      <td>2020-05-04 00:22:00</td>\n",
       "      <td>911 Calls</td>\n",
       "      <td>36.042237</td>\n",
       "      <td>-86.743455</td>\n",
       "      <td>5244-C EDMONSON PIKE - SECTOR SE</td>\n",
       "      <td>POINT (-86.74345 36.04224)</td>\n",
       "    </tr>\n",
       "    <tr>\n",
       "      <th>1546</th>\n",
       "      <td>2020-05-04 00:25:00</td>\n",
       "      <td>911 Calls</td>\n",
       "      <td>36.077664</td>\n",
       "      <td>-86.655607</td>\n",
       "      <td>2747-B MURFREESBORO PKE - SECTOR NW</td>\n",
       "      <td>POINT (-86.65561 36.07766)</td>\n",
       "    </tr>\n",
       "    <tr>\n",
       "      <th>1547</th>\n",
       "      <td>2020-05-04 00:29:00</td>\n",
       "      <td>911 Calls</td>\n",
       "      <td>36.024706</td>\n",
       "      <td>-86.743562</td>\n",
       "      <td>302 SUMMIT VIEW DR - E</td>\n",
       "      <td>POINT (-86.74356 36.02471)</td>\n",
       "    </tr>\n",
       "  </tbody>\n",
       "</table>\n",
       "<p>1548 rows × 6 columns</p>\n",
       "</div>"
      ],
      "text/plain": [
       "                    time    call_id        lat        lng  \\\n",
       "0    2020-05-03 16:30:00  911 Calls  36.247802 -86.716847   \n",
       "1    2020-05-03 16:30:00  911 Calls  36.143108 -86.800621   \n",
       "2    2020-05-03 16:30:00  911 Calls  36.100516 -87.056329   \n",
       "3    2020-05-03 16:30:00  911 Calls  36.130021 -86.927819   \n",
       "4    2020-05-03 16:31:00  911 Calls  36.142380 -86.881882   \n",
       "...                  ...        ...        ...        ...   \n",
       "1543 2020-05-04 00:16:00  911 Calls  36.067911 -86.622970   \n",
       "1544 2020-05-04 00:18:00  911 Calls  36.131694 -86.770535   \n",
       "1545 2020-05-04 00:22:00  911 Calls  36.042237 -86.743455   \n",
       "1546 2020-05-04 00:25:00  911 Calls  36.077664 -86.655607   \n",
       "1547 2020-05-04 00:29:00  911 Calls  36.024706 -86.743562   \n",
       "\n",
       "                                  address                    geometry  \n",
       "0                         WIRELESS CALLER  POINT (-86.71685 36.24780)  \n",
       "1                     1161 21ST AV S - SE  POINT (-86.80062 36.14311)  \n",
       "2                   8013 C MCCRORY LN - N  POINT (-87.05633 36.10052)  \n",
       "3                      5758 RIVER RD - SW  POINT (-86.92782 36.13002)  \n",
       "4                    3744B ANNEX AVE - SE  POINT (-86.88188 36.14238)  \n",
       "...                                   ...                         ...  \n",
       "1543                      WIRELESS CALLER  POINT (-86.62297 36.06791)  \n",
       "1544         1823-C 12TH AV - SECTOR SE S  POINT (-86.77053 36.13169)  \n",
       "1545     5244-C EDMONSON PIKE - SECTOR SE  POINT (-86.74345 36.04224)  \n",
       "1546  2747-B MURFREESBORO PKE - SECTOR NW  POINT (-86.65561 36.07766)  \n",
       "1547               302 SUMMIT VIEW DR - E  POINT (-86.74356 36.02471)  \n",
       "\n",
       "[1548 rows x 6 columns]"
      ]
     },
     "execution_count": 261,
     "metadata": {},
     "output_type": "execute_result"
    }
   ],
   "source": [
    "Der_911.time =Der_911.time.astype(\"datetime64\")\n",
    "Der_911"
   ]
  },
  {
   "cell_type": "code",
   "execution_count": 262,
   "id": "7fff238e",
   "metadata": {},
   "outputs": [
    {
     "data": {
      "text/plain": [
       "<AxesSubplot:xlabel='time'>"
      ]
     },
     "execution_count": 262,
     "metadata": {},
     "output_type": "execute_result"
    },
    {
     "data": {
      "image/png": "[encoded data removed]",
      "text/plain": [
       "<Figure size 432x288 with 1 Axes>"
      ]
     },
     "metadata": {
      "needs_background": "light"
     },
     "output_type": "display_data"
    }
   ],
   "source": [
    "Der_911.groupby(Der_911.time.dt.hour).count().plot(kind='bar')\n"
   ]
  },
  {
   "cell_type": "code",
   "execution_count": null,
   "id": "5f12344c",
   "metadata": {},
   "outputs": [],
   "source": []
  },
  {
   "cell_type": "code",
   "execution_count": 263,
   "id": "b335b210",
   "metadata": {},
   "outputs": [
    {
     "data": {
      "text/plain": [
       "<AxesSubplot:>"
      ]
     },
     "execution_count": 263,
     "metadata": {},
     "output_type": "execute_result"
    },
    {
     "data": {
      "image/png": "[encoded data removed]",
      "text/plain": [
       "<Figure size 432x288 with 1 Axes>"
      ]
     },
     "metadata": {
      "needs_background": "light"
     },
     "output_type": "display_data"
    }
   ],
   "source": [
    "Der_911.time.hist()"
   ]
  },
  {
   "cell_type": "code",
   "execution_count": 264,
   "id": "694dc19b",
   "metadata": {},
   "outputs": [
    {
     "data": {
      "text/plain": [
       "<AxesSubplot:>"
      ]
     },
     "execution_count": 264,
     "metadata": {},
     "output_type": "execute_result"
    },
    {
     "data": {
      "image/png": "[encoded data removed]",
      "text/plain": [
       "<Figure size 432x288 with 1 Axes>"
      ]
     },
     "metadata": {
      "needs_background": "light"
     },
     "output_type": "display_data"
    }
   ],
   "source": [
    "Der_911.time.dt.hour.hist(bins=20,color='cadetblue')"
   ]
  },
  {
   "cell_type": "code",
   "execution_count": 265,
   "id": "cabbe982",
   "metadata": {},
   "outputs": [
    {
     "data": {
      "text/plain": [
       "18    346\n",
       "19    265\n",
       "17    259\n",
       "20    189\n",
       "16    138\n",
       "22    131\n",
       "21    122\n",
       "23     65\n",
       "0      33\n",
       "Name: time, dtype: int64"
      ]
     },
     "execution_count": 265,
     "metadata": {},
     "output_type": "execute_result"
    }
   ],
   "source": [
    "Der_911.time.dt.hour.value_counts()"
   ]
  },
  {
   "cell_type": "code",
   "execution_count": 266,
   "id": "17d50b7f",
   "metadata": {},
   "outputs": [
    {
     "data": {
      "text/html": [
       "<div>\n",
       "<style scoped>\n",
       "    .dataframe tbody tr th:only-of-type {\n",
       "        vertical-align: middle;\n",
       "    }\n",
       "\n",
       "    .dataframe tbody tr th {\n",
       "        vertical-align: top;\n",
       "    }\n",
       "\n",
       "    .dataframe thead th {\n",
       "        text-align: right;\n",
       "    }\n",
       "</style>\n",
       "<table border=\"1\" class=\"dataframe\">\n",
       "  <thead>\n",
       "    <tr style=\"text-align: right;\">\n",
       "      <th></th>\n",
       "      <th>time</th>\n",
       "      <th>call_id</th>\n",
       "      <th>lat</th>\n",
       "      <th>lng</th>\n",
       "      <th>address</th>\n",
       "      <th>geometry</th>\n",
       "    </tr>\n",
       "  </thead>\n",
       "  <tbody>\n",
       "    <tr>\n",
       "      <th>0</th>\n",
       "      <td>2020-05-03 16:30:00</td>\n",
       "      <td>911 Calls</td>\n",
       "      <td>36.247802</td>\n",
       "      <td>-86.716847</td>\n",
       "      <td>WIRELESS CALLER</td>\n",
       "      <td>POINT (-86.71685 36.24780)</td>\n",
       "    </tr>\n",
       "  </tbody>\n",
       "</table>\n",
       "</div>"
      ],
      "text/plain": [
       "                 time    call_id        lat        lng          address  \\\n",
       "0 2020-05-03 16:30:00  911 Calls  36.247802 -86.716847  WIRELESS CALLER   \n",
       "\n",
       "                     geometry  \n",
       "0  POINT (-86.71685 36.24780)  "
      ]
     },
     "execution_count": 266,
     "metadata": {},
     "output_type": "execute_result"
    }
   ],
   "source": [
    "Der_911_firstcall=Der_911.sort_values(by=['time']).head(1)\n",
    "Der_911_firstcall"
   ]
  },
  {
   "cell_type": "code",
   "execution_count": 267,
   "id": "85172bac",
   "metadata": {},
   "outputs": [
    {
     "data": {
      "text/html": [
       "<div>\n",
       "<style scoped>\n",
       "    .dataframe tbody tr th:only-of-type {\n",
       "        vertical-align: middle;\n",
       "    }\n",
       "\n",
       "    .dataframe tbody tr th {\n",
       "        vertical-align: top;\n",
       "    }\n",
       "\n",
       "    .dataframe thead th {\n",
       "        text-align: right;\n",
       "    }\n",
       "</style>\n",
       "<table border=\"1\" class=\"dataframe\">\n",
       "  <thead>\n",
       "    <tr style=\"text-align: right;\">\n",
       "      <th></th>\n",
       "      <th>time</th>\n",
       "      <th>call_id</th>\n",
       "      <th>lat</th>\n",
       "      <th>lng</th>\n",
       "      <th>address</th>\n",
       "      <th>geometry</th>\n",
       "    </tr>\n",
       "  </thead>\n",
       "  <tbody>\n",
       "    <tr>\n",
       "      <th>1547</th>\n",
       "      <td>2020-05-04 00:29:00</td>\n",
       "      <td>911 Calls</td>\n",
       "      <td>36.024706</td>\n",
       "      <td>-86.743562</td>\n",
       "      <td>302 SUMMIT VIEW DR - E</td>\n",
       "      <td>POINT (-86.74356 36.02471)</td>\n",
       "    </tr>\n",
       "  </tbody>\n",
       "</table>\n",
       "</div>"
      ],
      "text/plain": [
       "                    time    call_id        lat        lng  \\\n",
       "1547 2020-05-04 00:29:00  911 Calls  36.024706 -86.743562   \n",
       "\n",
       "                     address                    geometry  \n",
       "1547  302 SUMMIT VIEW DR - E  POINT (-86.74356 36.02471)  "
      ]
     },
     "execution_count": 267,
     "metadata": {},
     "output_type": "execute_result"
    }
   ],
   "source": [
    "Der_911_lastcall=Der_911.sort_values(by=['time']).tail(1)\n",
    "Der_911_lastcall"
   ]
  },
  {
   "cell_type": "code",
   "execution_count": 268,
   "id": "fdb90194",
   "metadata": {},
   "outputs": [
    {
     "data": {
      "text/html": [
       "<div>\n",
       "<style scoped>\n",
       "    .dataframe tbody tr th:only-of-type {\n",
       "        vertical-align: middle;\n",
       "    }\n",
       "\n",
       "    .dataframe tbody tr th {\n",
       "        vertical-align: top;\n",
       "    }\n",
       "\n",
       "    .dataframe thead th {\n",
       "        text-align: right;\n",
       "    }\n",
       "</style>\n",
       "<table border=\"1\" class=\"dataframe\">\n",
       "  <thead>\n",
       "    <tr style=\"text-align: right;\">\n",
       "      <th></th>\n",
       "      <th>time</th>\n",
       "      <th>call_id</th>\n",
       "      <th>lat</th>\n",
       "      <th>lng</th>\n",
       "      <th>address</th>\n",
       "      <th>geometry</th>\n",
       "    </tr>\n",
       "  </thead>\n",
       "  <tbody>\n",
       "    <tr>\n",
       "      <th>0</th>\n",
       "      <td>2020-05-03 16:30:00</td>\n",
       "      <td>911 Calls</td>\n",
       "      <td>36.247802</td>\n",
       "      <td>-86.716847</td>\n",
       "      <td>WIRELESS CALLER</td>\n",
       "      <td>POINT (-86.71685 36.24780)</td>\n",
       "    </tr>\n",
       "    <tr>\n",
       "      <th>1547</th>\n",
       "      <td>2020-05-04 00:29:00</td>\n",
       "      <td>911 Calls</td>\n",
       "      <td>36.024706</td>\n",
       "      <td>-86.743562</td>\n",
       "      <td>302 SUMMIT VIEW DR - E</td>\n",
       "      <td>POINT (-86.74356 36.02471)</td>\n",
       "    </tr>\n",
       "  </tbody>\n",
       "</table>\n",
       "</div>"
      ],
      "text/plain": [
       "                    time    call_id        lat        lng  \\\n",
       "0    2020-05-03 16:30:00  911 Calls  36.247802 -86.716847   \n",
       "1547 2020-05-04 00:29:00  911 Calls  36.024706 -86.743562   \n",
       "\n",
       "                     address                    geometry  \n",
       "0            WIRELESS CALLER  POINT (-86.71685 36.24780)  \n",
       "1547  302 SUMMIT VIEW DR - E  POINT (-86.74356 36.02471)  "
      ]
     },
     "execution_count": 268,
     "metadata": {},
     "output_type": "execute_result"
    }
   ],
   "source": [
    "Der_firstlast=pd.concat([Der_911_firstcall,Der_911_lastcall])\n",
    "Der_firstlast"
   ]
  },
  {
   "cell_type": "code",
   "execution_count": 269,
   "id": "224b6616",
   "metadata": {},
   "outputs": [
    {
     "data": {
      "text/html": [
       "<div>\n",
       "<style scoped>\n",
       "    .dataframe tbody tr th:only-of-type {\n",
       "        vertical-align: middle;\n",
       "    }\n",
       "\n",
       "    .dataframe tbody tr th {\n",
       "        vertical-align: top;\n",
       "    }\n",
       "\n",
       "    .dataframe thead th {\n",
       "        text-align: right;\n",
       "    }\n",
       "</style>\n",
       "<table border=\"1\" class=\"dataframe\">\n",
       "  <thead>\n",
       "    <tr style=\"text-align: right;\">\n",
       "      <th></th>\n",
       "      <th>time</th>\n",
       "      <th>call_id</th>\n",
       "      <th>lat</th>\n",
       "      <th>lng</th>\n",
       "      <th>address</th>\n",
       "      <th>geometry</th>\n",
       "    </tr>\n",
       "  </thead>\n",
       "  <tbody>\n",
       "    <tr>\n",
       "      <th>0</th>\n",
       "      <td>2020-05-03 16:30:00</td>\n",
       "      <td>911 Calls</td>\n",
       "      <td>36.247802</td>\n",
       "      <td>-86.716847</td>\n",
       "      <td>WIRELESS CALLER</td>\n",
       "      <td>POINT (-86.71685 36.24780)</td>\n",
       "    </tr>\n",
       "    <tr>\n",
       "      <th>1547</th>\n",
       "      <td>2020-05-04 00:29:00</td>\n",
       "      <td>911 Calls</td>\n",
       "      <td>36.024706</td>\n",
       "      <td>-86.743562</td>\n",
       "      <td>302 SUMMIT VIEW DR - E</td>\n",
       "      <td>POINT (-86.74356 36.02471)</td>\n",
       "    </tr>\n",
       "  </tbody>\n",
       "</table>\n",
       "</div>"
      ],
      "text/plain": [
       "                    time    call_id        lat        lng  \\\n",
       "0    2020-05-03 16:30:00  911 Calls  36.247802 -86.716847   \n",
       "1547 2020-05-04 00:29:00  911 Calls  36.024706 -86.743562   \n",
       "\n",
       "                     address                    geometry  \n",
       "0            WIRELESS CALLER  POINT (-86.71685 36.24780)  \n",
       "1547  302 SUMMIT VIEW DR - E  POINT (-86.74356 36.02471)  "
      ]
     },
     "execution_count": 269,
     "metadata": {},
     "output_type": "execute_result"
    }
   ],
   "source": [
    "Der_firstlast"
   ]
  },
  {
   "cell_type": "code",
   "execution_count": 270,
   "id": "e271f494",
   "metadata": {},
   "outputs": [
    {
     "ename": "SyntaxError",
     "evalue": "invalid syntax (Temp/ipykernel_26036/1135669450.py, line 2)",
     "output_type": "error",
     "traceback": [
      "\u001b[1;36m  File \u001b[1;32m\"C:\\Users\\bk_ts\\AppData\\Local\\Temp/ipykernel_26036/1135669450.py\"\u001b[1;36m, line \u001b[1;32m2\u001b[0m\n\u001b[1;33m    for row_index,rwo_values in Der_firstlast.iterrows()\u001b[0m\n\u001b[1;37m                                                        ^\u001b[0m\n\u001b[1;31mSyntaxError\u001b[0m\u001b[1;31m:\u001b[0m invalid syntax\n"
     ]
    }
   ],
   "source": [
    "folium.GeoJson(zipcodes).add_to(mapDer_911)\n",
    "for row_index,rwo_values in Der_firstlast.iterrows()\n",
    " loc = [row_values['lat'], row_values['lng']]\n",
    "    pop = str(row_values['time'])\n",
    "    icon=folium.Icon(color=\"blue\",icon=\"phone\", prefix='fa')\n",
    "    \n",
    "    marker = folium.Marker(\n",
    "        location = loc, \n",
    "        popup = pop,\n",
    "    icon = icon) \n",
    "    \n",
    "    marker.add_to(mapDer_911)\n",
    "mapDer_911\n",
    "\n",
    "                            "
   ]
  },
  {
   "cell_type": "code",
   "execution_count": null,
   "id": "3f2046a0",
   "metadata": {},
   "outputs": [],
   "source": []
  },
  {
   "cell_type": "code",
   "execution_count": null,
   "id": "92d71b60",
   "metadata": {},
   "outputs": [],
   "source": []
  },
  {
   "cell_type": "code",
   "execution_count": 300,
   "id": "c4f62231",
   "metadata": {},
   "outputs": [
    {
     "ename": "TypeError",
     "evalue": "cannot unpack non-iterable int object",
     "output_type": "error",
     "traceback": [
      "\u001b[1;31m---------------------------------------------------------------------------\u001b[0m",
      "\u001b[1;31mTypeError\u001b[0m                                 Traceback (most recent call last)",
      "\u001b[1;32m~\\AppData\\Local\\Temp/ipykernel_26036/3111203624.py\u001b[0m in \u001b[0;36m<module>\u001b[1;34m\u001b[0m\n\u001b[0;32m      1\u001b[0m \u001b[0mcounnt_center\u001b[0m\u001b[1;33m=\u001b[0m\u001b[1;33m[\u001b[0m\u001b[1;36m36.166\u001b[0m\u001b[1;33m,\u001b[0m\u001b[1;33m-\u001b[0m\u001b[1;36m86.78\u001b[0m\u001b[1;33m]\u001b[0m\u001b[1;33m\u001b[0m\u001b[1;33m\u001b[0m\u001b[0m\n\u001b[1;32m----> 2\u001b[1;33m \u001b[0mdavidson_map\u001b[0m\u001b[1;33m=\u001b[0m\u001b[0mfolium\u001b[0m\u001b[1;33m.\u001b[0m\u001b[0mmaplocation\u001b[0m\u001b[1;33m=\u001b[0m\u001b[0mcounty_center\u001b[0m\u001b[1;33m,\u001b[0m\u001b[0mzoom_start\u001b[0m\u001b[1;33m=\u001b[0m\u001b[1;36m12\u001b[0m\u001b[1;33m\u001b[0m\u001b[1;33m\u001b[0m\u001b[0m\n\u001b[0m\u001b[0;32m      3\u001b[0m \u001b[1;33m\u001b[0m\u001b[0m\n\u001b[0;32m      4\u001b[0m \u001b[1;32mfor\u001b[0m \u001b[0mrow_index\u001b[0m\u001b[1;33m,\u001b[0m \u001b[0mrow_values\u001b[0m \u001b[1;32min\u001b[0m \u001b[0mDer_911_geo\u001b[0m\u001b[1;33m.\u001b[0m\u001b[0miterrows\u001b[0m\u001b[1;33m(\u001b[0m\u001b[1;33m)\u001b[0m\u001b[1;33m:\u001b[0m\u001b[1;33m\u001b[0m\u001b[1;33m\u001b[0m\u001b[0m\n\u001b[0;32m      5\u001b[0m \u001b[1;33m\u001b[0m\u001b[0m\n",
      "\u001b[1;31mTypeError\u001b[0m: cannot unpack non-iterable int object"
     ]
    }
   ],
   "source": [
    "counnt_center=[36.166,-86.78]\n",
    "davidson_map=folium.maplocation=county_center,zoom_start=12\n",
    "\n",
    "for row_index, row_values in Der_911_geo.iterrows():\n",
    "\n",
    "    loc = [row_values['lat'], row_values['lng']]\n",
    "    pop = str(row_values['time'])\n",
    "    icon=folium.Icon(color=\"red\",icon=\"marker\", prefix='fa')\n",
    "    \n",
    "    marker = folium.Marker(\n",
    "        location = loc, \n",
    "        popup = pop, icon = icon) \n",
    "\n",
    "    marker.add_to(davidson_map)\n",
    "\n",
    "davidson_map"
   ]
  },
  {
   "cell_type": "code",
   "execution_count": 272,
   "id": "379d1235",
   "metadata": {},
   "outputs": [
    {
     "data": {
      "text/plain": [
       "WIRELESS CALLER                  336\n",
       "WIRELESS 911 CALLER               16\n",
       "3009D DARRINGTON WAY - N          15\n",
       "4400 HARDING PIKE - E             15\n",
       "3333 LEBANON PIKE - N             14\n",
       "                                ... \n",
       "9005 NEWSOM STATION RD - N         1\n",
       "2167 BROOKVIEW DR - SE Sector      1\n",
       "8353 HIGHWAY 100                   1\n",
       "701B STEWARTS FERRY PIKE - SE      1\n",
       "2014 QUAIL HOLLOW CIR              1\n",
       "Name: address, Length: 630, dtype: int64"
      ]
     },
     "execution_count": 272,
     "metadata": {},
     "output_type": "execute_result"
    }
   ],
   "source": [
    "Der_911_geo['address'].value_counts()"
   ]
  },
  {
   "cell_type": "code",
   "execution_count": 273,
   "id": "6da7e0f8",
   "metadata": {},
   "outputs": [
    {
     "data": {
      "text/plain": [
       "(1548, 6)"
      ]
     },
     "execution_count": 273,
     "metadata": {},
     "output_type": "execute_result"
    }
   ],
   "source": [
    "Der_911_geo_address = Der_911_geo.loc[Der_911_geo['address']=='WIRELESS CALLER']\n",
    "Der_911_geo.shape"
   ]
  },
  {
   "cell_type": "code",
   "execution_count": 274,
   "id": "0b191ae3",
   "metadata": {},
   "outputs": [
    {
     "data": {
      "text/html": [
       "<div>\n",
       "<style scoped>\n",
       "    .dataframe tbody tr th:only-of-type {\n",
       "        vertical-align: middle;\n",
       "    }\n",
       "\n",
       "    .dataframe tbody tr th {\n",
       "        vertical-align: top;\n",
       "    }\n",
       "\n",
       "    .dataframe thead th {\n",
       "        text-align: right;\n",
       "    }\n",
       "</style>\n",
       "<table border=\"1\" class=\"dataframe\">\n",
       "  <thead>\n",
       "    <tr style=\"text-align: right;\">\n",
       "      <th></th>\n",
       "      <th>Seizure DateTime</th>\n",
       "      <th>CallTypeId</th>\n",
       "      <th>ALI Latitude</th>\n",
       "      <th>ALI Longitude</th>\n",
       "      <th>Cell Tower Address</th>\n",
       "    </tr>\n",
       "  </thead>\n",
       "  <tbody>\n",
       "    <tr>\n",
       "      <th>0</th>\n",
       "      <td>3/3/2020 0:34</td>\n",
       "      <td>911 Calls</td>\n",
       "      <td>36.072708</td>\n",
       "      <td>-86.665779</td>\n",
       "      <td>620 Richards RD - N Sector</td>\n",
       "    </tr>\n",
       "    <tr>\n",
       "      <th>1</th>\n",
       "      <td>3/3/2020 0:36</td>\n",
       "      <td>911 Calls</td>\n",
       "      <td>36.159634</td>\n",
       "      <td>-86.841904</td>\n",
       "      <td>4507D KENTUCKY AV - SE</td>\n",
       "    </tr>\n",
       "    <tr>\n",
       "      <th>2</th>\n",
       "      <td>3/3/2020 0:36</td>\n",
       "      <td>911 Calls</td>\n",
       "      <td>36.264153</td>\n",
       "      <td>-86.708862</td>\n",
       "      <td>329 THELMA ST - S Sector</td>\n",
       "    </tr>\n",
       "    <tr>\n",
       "      <th>3</th>\n",
       "      <td>3/3/2020 0:36</td>\n",
       "      <td>911 Calls</td>\n",
       "      <td>36.156970</td>\n",
       "      <td>-86.880736</td>\n",
       "      <td>526 FOUNDRY DR</td>\n",
       "    </tr>\n",
       "    <tr>\n",
       "      <th>4</th>\n",
       "      <td>3/3/2020 0:36</td>\n",
       "      <td>911 Calls</td>\n",
       "      <td>36.178839</td>\n",
       "      <td>-86.692286</td>\n",
       "      <td>5007B RUSKIN AVE - N</td>\n",
       "    </tr>\n",
       "  </tbody>\n",
       "</table>\n",
       "</div>"
      ],
      "text/plain": [
       "  Seizure DateTime CallTypeId  ALI Latitude  ALI Longitude  \\\n",
       "0    3/3/2020 0:34  911 Calls     36.072708     -86.665779   \n",
       "1    3/3/2020 0:36  911 Calls     36.159634     -86.841904   \n",
       "2    3/3/2020 0:36  911 Calls     36.264153     -86.708862   \n",
       "3    3/3/2020 0:36  911 Calls     36.156970     -86.880736   \n",
       "4    3/3/2020 0:36  911 Calls     36.178839     -86.692286   \n",
       "\n",
       "           Cell Tower Address  \n",
       "0  620 Richards RD - N Sector  \n",
       "1      4507D KENTUCKY AV - SE  \n",
       "2    329 THELMA ST - S Sector  \n",
       "3              526 FOUNDRY DR  \n",
       "4        5007B RUSKIN AVE - N  "
      ]
     },
     "execution_count": 274,
     "metadata": {},
     "output_type": "execute_result"
    }
   ],
   "source": [
    "Tor_911.head(5)"
   ]
  },
  {
   "cell_type": "code",
   "execution_count": 275,
   "id": "4047aa62",
   "metadata": {},
   "outputs": [],
   "source": [
    "Tor_911=Tor_911.rename(columns={'Seizure DateTime':'date','CallTypeId':'call_id','ALI Latitude':'lat','ALI Longitude':'lng','Cell Tower Address':'address' })"
   ]
  },
  {
   "cell_type": "code",
   "execution_count": 276,
   "id": "fee0b4c7",
   "metadata": {},
   "outputs": [
    {
     "data": {
      "text/html": [
       "<div>\n",
       "<style scoped>\n",
       "    .dataframe tbody tr th:only-of-type {\n",
       "        vertical-align: middle;\n",
       "    }\n",
       "\n",
       "    .dataframe tbody tr th {\n",
       "        vertical-align: top;\n",
       "    }\n",
       "\n",
       "    .dataframe thead th {\n",
       "        text-align: right;\n",
       "    }\n",
       "</style>\n",
       "<table border=\"1\" class=\"dataframe\">\n",
       "  <thead>\n",
       "    <tr style=\"text-align: right;\">\n",
       "      <th></th>\n",
       "      <th>date</th>\n",
       "      <th>call_id</th>\n",
       "      <th>lat</th>\n",
       "      <th>lng</th>\n",
       "      <th>address</th>\n",
       "    </tr>\n",
       "  </thead>\n",
       "  <tbody>\n",
       "    <tr>\n",
       "      <th>0</th>\n",
       "      <td>3/3/2020 0:34</td>\n",
       "      <td>911 Calls</td>\n",
       "      <td>36.072708</td>\n",
       "      <td>-86.665779</td>\n",
       "      <td>620 Richards RD - N Sector</td>\n",
       "    </tr>\n",
       "    <tr>\n",
       "      <th>1</th>\n",
       "      <td>3/3/2020 0:36</td>\n",
       "      <td>911 Calls</td>\n",
       "      <td>36.159634</td>\n",
       "      <td>-86.841904</td>\n",
       "      <td>4507D KENTUCKY AV - SE</td>\n",
       "    </tr>\n",
       "    <tr>\n",
       "      <th>2</th>\n",
       "      <td>3/3/2020 0:36</td>\n",
       "      <td>911 Calls</td>\n",
       "      <td>36.264153</td>\n",
       "      <td>-86.708862</td>\n",
       "      <td>329 THELMA ST - S Sector</td>\n",
       "    </tr>\n",
       "    <tr>\n",
       "      <th>3</th>\n",
       "      <td>3/3/2020 0:36</td>\n",
       "      <td>911 Calls</td>\n",
       "      <td>36.156970</td>\n",
       "      <td>-86.880736</td>\n",
       "      <td>526 FOUNDRY DR</td>\n",
       "    </tr>\n",
       "    <tr>\n",
       "      <th>4</th>\n",
       "      <td>3/3/2020 0:36</td>\n",
       "      <td>911 Calls</td>\n",
       "      <td>36.178839</td>\n",
       "      <td>-86.692286</td>\n",
       "      <td>5007B RUSKIN AVE - N</td>\n",
       "    </tr>\n",
       "    <tr>\n",
       "      <th>...</th>\n",
       "      <td>...</td>\n",
       "      <td>...</td>\n",
       "      <td>...</td>\n",
       "      <td>...</td>\n",
       "      <td>...</td>\n",
       "    </tr>\n",
       "    <tr>\n",
       "      <th>470</th>\n",
       "      <td>3/3/2020 4:54</td>\n",
       "      <td>911 Calls</td>\n",
       "      <td>36.142552</td>\n",
       "      <td>-86.635330</td>\n",
       "      <td>WIRELESS CALLER</td>\n",
       "    </tr>\n",
       "    <tr>\n",
       "      <th>471</th>\n",
       "      <td>3/3/2020 4:54</td>\n",
       "      <td>911 Calls</td>\n",
       "      <td>36.189415</td>\n",
       "      <td>-86.813557</td>\n",
       "      <td>WIRELESS CALLER</td>\n",
       "    </tr>\n",
       "    <tr>\n",
       "      <th>472</th>\n",
       "      <td>3/3/2020 4:55</td>\n",
       "      <td>911 Calls</td>\n",
       "      <td>36.223534</td>\n",
       "      <td>-86.757874</td>\n",
       "      <td>WIRELESS CALLER</td>\n",
       "    </tr>\n",
       "    <tr>\n",
       "      <th>473</th>\n",
       "      <td>3/3/2020 4:56</td>\n",
       "      <td>911 Calls</td>\n",
       "      <td>36.168398</td>\n",
       "      <td>-86.783774</td>\n",
       "      <td>600 DR MARTIN L KING JR BLVD - NE</td>\n",
       "    </tr>\n",
       "    <tr>\n",
       "      <th>474</th>\n",
       "      <td>3/3/2020 4:58</td>\n",
       "      <td>911 Calls</td>\n",
       "      <td>36.276566</td>\n",
       "      <td>-86.799417</td>\n",
       "      <td>4884 LICKTON PIKE - SE</td>\n",
       "    </tr>\n",
       "  </tbody>\n",
       "</table>\n",
       "<p>475 rows × 5 columns</p>\n",
       "</div>"
      ],
      "text/plain": [
       "              date    call_id        lat        lng  \\\n",
       "0    3/3/2020 0:34  911 Calls  36.072708 -86.665779   \n",
       "1    3/3/2020 0:36  911 Calls  36.159634 -86.841904   \n",
       "2    3/3/2020 0:36  911 Calls  36.264153 -86.708862   \n",
       "3    3/3/2020 0:36  911 Calls  36.156970 -86.880736   \n",
       "4    3/3/2020 0:36  911 Calls  36.178839 -86.692286   \n",
       "..             ...        ...        ...        ...   \n",
       "470  3/3/2020 4:54  911 Calls  36.142552 -86.635330   \n",
       "471  3/3/2020 4:54  911 Calls  36.189415 -86.813557   \n",
       "472  3/3/2020 4:55  911 Calls  36.223534 -86.757874   \n",
       "473  3/3/2020 4:56  911 Calls  36.168398 -86.783774   \n",
       "474  3/3/2020 4:58  911 Calls  36.276566 -86.799417   \n",
       "\n",
       "                               address  \n",
       "0           620 Richards RD - N Sector  \n",
       "1               4507D KENTUCKY AV - SE  \n",
       "2             329 THELMA ST - S Sector  \n",
       "3                       526 FOUNDRY DR  \n",
       "4                 5007B RUSKIN AVE - N  \n",
       "..                                 ...  \n",
       "470                    WIRELESS CALLER  \n",
       "471                    WIRELESS CALLER  \n",
       "472                    WIRELESS CALLER  \n",
       "473  600 DR MARTIN L KING JR BLVD - NE  \n",
       "474             4884 LICKTON PIKE - SE  \n",
       "\n",
       "[475 rows x 5 columns]"
      ]
     },
     "execution_count": 276,
     "metadata": {},
     "output_type": "execute_result"
    }
   ],
   "source": [
    "Tor_911"
   ]
  },
  {
   "cell_type": "code",
   "execution_count": 277,
   "id": "bb35b500",
   "metadata": {},
   "outputs": [
    {
     "data": {
      "text/html": [
       "<div>\n",
       "<style scoped>\n",
       "    .dataframe tbody tr th:only-of-type {\n",
       "        vertical-align: middle;\n",
       "    }\n",
       "\n",
       "    .dataframe tbody tr th {\n",
       "        vertical-align: top;\n",
       "    }\n",
       "\n",
       "    .dataframe thead th {\n",
       "        text-align: right;\n",
       "    }\n",
       "</style>\n",
       "<table border=\"1\" class=\"dataframe\">\n",
       "  <thead>\n",
       "    <tr style=\"text-align: right;\">\n",
       "      <th></th>\n",
       "      <th>date</th>\n",
       "      <th>call_id</th>\n",
       "      <th>lat</th>\n",
       "      <th>lng</th>\n",
       "      <th>address</th>\n",
       "      <th>geometry</th>\n",
       "    </tr>\n",
       "  </thead>\n",
       "  <tbody>\n",
       "    <tr>\n",
       "      <th>0</th>\n",
       "      <td>3/3/2020 0:34</td>\n",
       "      <td>911 Calls</td>\n",
       "      <td>36.072708</td>\n",
       "      <td>-86.665779</td>\n",
       "      <td>620 Richards RD - N Sector</td>\n",
       "      <td>POINT (-86.665779 36.072708)</td>\n",
       "    </tr>\n",
       "    <tr>\n",
       "      <th>1</th>\n",
       "      <td>3/3/2020 0:36</td>\n",
       "      <td>911 Calls</td>\n",
       "      <td>36.159634</td>\n",
       "      <td>-86.841904</td>\n",
       "      <td>4507D KENTUCKY AV - SE</td>\n",
       "      <td>POINT (-86.841904 36.159634)</td>\n",
       "    </tr>\n",
       "    <tr>\n",
       "      <th>2</th>\n",
       "      <td>3/3/2020 0:36</td>\n",
       "      <td>911 Calls</td>\n",
       "      <td>36.264153</td>\n",
       "      <td>-86.708862</td>\n",
       "      <td>329 THELMA ST - S Sector</td>\n",
       "      <td>POINT (-86.708862 36.264153)</td>\n",
       "    </tr>\n",
       "  </tbody>\n",
       "</table>\n",
       "</div>"
      ],
      "text/plain": [
       "            date    call_id        lat        lng                     address  \\\n",
       "0  3/3/2020 0:34  911 Calls  36.072708 -86.665779  620 Richards RD - N Sector   \n",
       "1  3/3/2020 0:36  911 Calls  36.159634 -86.841904      4507D KENTUCKY AV - SE   \n",
       "2  3/3/2020 0:36  911 Calls  36.264153 -86.708862    329 THELMA ST - S Sector   \n",
       "\n",
       "                       geometry  \n",
       "0  POINT (-86.665779 36.072708)  \n",
       "1  POINT (-86.841904 36.159634)  \n",
       "2  POINT (-86.708862 36.264153)  "
      ]
     },
     "execution_count": 277,
     "metadata": {},
     "output_type": "execute_result"
    }
   ],
   "source": [
    "Tor_911['geometry']=Tor_911.apply(lambda x: Point((float(x.lng), \n",
    "                                                         float(x.lat))), \n",
    "                                        axis=1)\n",
    "Tor_911.head(3)"
   ]
  },
  {
   "cell_type": "code",
   "execution_count": 278,
   "id": "357080eb",
   "metadata": {},
   "outputs": [
    {
     "data": {
      "text/plain": [
       "geopandas.geodataframe.GeoDataFrame"
      ]
     },
     "execution_count": 278,
     "metadata": {},
     "output_type": "execute_result"
    }
   ],
   "source": [
    "Tor_911_geo=gpd.GeoDataFrame(Tor_911)\n",
    "type(Tor_911_geo)\n"
   ]
  },
  {
   "cell_type": "code",
   "execution_count": 279,
   "id": "c7469a88",
   "metadata": {},
   "outputs": [
    {
     "data": {
      "text/plain": [
       "<AxesSubplot:>"
      ]
     },
     "execution_count": 279,
     "metadata": {},
     "output_type": "execute_result"
    },
    {
     "data": {
      "image/png": "[encoded data removed]",
      "text/plain": [
       "<Figure size 432x288 with 1 Axes>"
      ]
     },
     "metadata": {
      "needs_background": "light"
     },
     "output_type": "display_data"
    }
   ],
   "source": [
    "Tor_911_geo.plot()"
   ]
  },
  {
   "cell_type": "code",
   "execution_count": null,
   "id": "a3305d4c",
   "metadata": {},
   "outputs": [],
   "source": []
  },
  {
   "cell_type": "code",
   "execution_count": 280,
   "id": "5f26e228",
   "metadata": {
    "scrolled": true
   },
   "outputs": [
    {
     "data": {
      "text/html": [
       "<div>\n",
       "<style scoped>\n",
       "    .dataframe tbody tr th:only-of-type {\n",
       "        vertical-align: middle;\n",
       "    }\n",
       "\n",
       "    .dataframe tbody tr th {\n",
       "        vertical-align: top;\n",
       "    }\n",
       "\n",
       "    .dataframe thead th {\n",
       "        text-align: right;\n",
       "    }\n",
       "</style>\n",
       "<table border=\"1\" class=\"dataframe\">\n",
       "  <thead>\n",
       "    <tr style=\"text-align: right;\">\n",
       "      <th></th>\n",
       "      <th>IncidentDate</th>\n",
       "      <th>Location</th>\n",
       "      <th>Latitude1</th>\n",
       "      <th>Longitude1</th>\n",
       "      <th>IncidentTypeDescription1</th>\n",
       "    </tr>\n",
       "  </thead>\n",
       "  <tbody>\n",
       "    <tr>\n",
       "      <th>0</th>\n",
       "      <td>5/3/2020 16:31</td>\n",
       "      <td>901 KENWICK CT W</td>\n",
       "      <td>36.046877</td>\n",
       "      <td>-86.962526</td>\n",
       "      <td>ELECTRICAL HAZARD</td>\n",
       "    </tr>\n",
       "    <tr>\n",
       "      <th>1</th>\n",
       "      <td>5/3/2020 16:32</td>\n",
       "      <td>8036 ARBOR DR</td>\n",
       "      <td>36.082491</td>\n",
       "      <td>-86.940680</td>\n",
       "      <td>ELECTRICAL HAZARD</td>\n",
       "    </tr>\n",
       "    <tr>\n",
       "      <th>2</th>\n",
       "      <td>5/3/2020 16:32</td>\n",
       "      <td>119 DUE WEST AV E</td>\n",
       "      <td>36.248029</td>\n",
       "      <td>-86.716875</td>\n",
       "      <td>NOT ALERT COPD</td>\n",
       "    </tr>\n",
       "    <tr>\n",
       "      <th>3</th>\n",
       "      <td>5/3/2020 16:33</td>\n",
       "      <td>630 GALLATIN PKE S</td>\n",
       "      <td>36.256491</td>\n",
       "      <td>-86.714817</td>\n",
       "      <td>ABDOMINAL PAIN</td>\n",
       "    </tr>\n",
       "    <tr>\n",
       "      <th>4</th>\n",
       "      <td>5/3/2020 16:33</td>\n",
       "      <td>615 W HILLWOOD DR</td>\n",
       "      <td>36.129690</td>\n",
       "      <td>-86.879834</td>\n",
       "      <td>ELECTRICAL HAZARD</td>\n",
       "    </tr>\n",
       "  </tbody>\n",
       "</table>\n",
       "</div>"
      ],
      "text/plain": [
       "     IncidentDate            Location  Latitude1  Longitude1  \\\n",
       "0  5/3/2020 16:31    901 KENWICK CT W  36.046877  -86.962526   \n",
       "1  5/3/2020 16:32       8036 ARBOR DR  36.082491  -86.940680   \n",
       "2  5/3/2020 16:32   119 DUE WEST AV E  36.248029  -86.716875   \n",
       "3  5/3/2020 16:33  630 GALLATIN PKE S  36.256491  -86.714817   \n",
       "4  5/3/2020 16:33   615 W HILLWOOD DR  36.129690  -86.879834   \n",
       "\n",
       "  IncidentTypeDescription1  \n",
       "0        ELECTRICAL HAZARD  \n",
       "1        ELECTRICAL HAZARD  \n",
       "2           NOT ALERT COPD  \n",
       "3           ABDOMINAL PAIN  \n",
       "4        ELECTRICAL HAZARD  "
      ]
     },
     "execution_count": 280,
     "metadata": {},
     "output_type": "execute_result"
    }
   ],
   "source": [
    "## 5/3/2020 4:30:00 PM  To:  5/4/2020 12:30:00 \n",
    "\n",
    "Der_incident.head(5)"
   ]
  },
  {
   "cell_type": "code",
   "execution_count": 281,
   "id": "4a9a25e4",
   "metadata": {},
   "outputs": [],
   "source": [
    "Der_incident=Der_incident.rename(columns={'incidentDate':'date','Latitude1':'lat','Longitude1':'lng','Location':'location','IncidentTypeDescription1':'description'})"
   ]
  },
  {
   "cell_type": "code",
   "execution_count": 282,
   "id": "e216ffd8",
   "metadata": {},
   "outputs": [
    {
     "data": {
      "text/html": [
       "<div>\n",
       "<style scoped>\n",
       "    .dataframe tbody tr th:only-of-type {\n",
       "        vertical-align: middle;\n",
       "    }\n",
       "\n",
       "    .dataframe tbody tr th {\n",
       "        vertical-align: top;\n",
       "    }\n",
       "\n",
       "    .dataframe thead th {\n",
       "        text-align: right;\n",
       "    }\n",
       "</style>\n",
       "<table border=\"1\" class=\"dataframe\">\n",
       "  <thead>\n",
       "    <tr style=\"text-align: right;\">\n",
       "      <th></th>\n",
       "      <th>IncidentDate</th>\n",
       "      <th>location</th>\n",
       "      <th>lat</th>\n",
       "      <th>lng</th>\n",
       "      <th>description</th>\n",
       "    </tr>\n",
       "  </thead>\n",
       "  <tbody>\n",
       "    <tr>\n",
       "      <th>0</th>\n",
       "      <td>5/3/2020 16:31</td>\n",
       "      <td>901 KENWICK CT W</td>\n",
       "      <td>36.046877</td>\n",
       "      <td>-86.962526</td>\n",
       "      <td>ELECTRICAL HAZARD</td>\n",
       "    </tr>\n",
       "    <tr>\n",
       "      <th>1</th>\n",
       "      <td>5/3/2020 16:32</td>\n",
       "      <td>8036 ARBOR DR</td>\n",
       "      <td>36.082491</td>\n",
       "      <td>-86.940680</td>\n",
       "      <td>ELECTRICAL HAZARD</td>\n",
       "    </tr>\n",
       "  </tbody>\n",
       "</table>\n",
       "</div>"
      ],
      "text/plain": [
       "     IncidentDate          location        lat        lng        description\n",
       "0  5/3/2020 16:31  901 KENWICK CT W  36.046877 -86.962526  ELECTRICAL HAZARD\n",
       "1  5/3/2020 16:32     8036 ARBOR DR  36.082491 -86.940680  ELECTRICAL HAZARD"
      ]
     },
     "execution_count": 282,
     "metadata": {},
     "output_type": "execute_result"
    }
   ],
   "source": [
    "Der_incident.head(2)"
   ]
  },
  {
   "cell_type": "code",
   "execution_count": 283,
   "id": "f811f970",
   "metadata": {},
   "outputs": [
    {
     "data": {
      "text/html": [
       "<div>\n",
       "<style scoped>\n",
       "    .dataframe tbody tr th:only-of-type {\n",
       "        vertical-align: middle;\n",
       "    }\n",
       "\n",
       "    .dataframe tbody tr th {\n",
       "        vertical-align: top;\n",
       "    }\n",
       "\n",
       "    .dataframe thead th {\n",
       "        text-align: right;\n",
       "    }\n",
       "</style>\n",
       "<table border=\"1\" class=\"dataframe\">\n",
       "  <thead>\n",
       "    <tr style=\"text-align: right;\">\n",
       "      <th></th>\n",
       "      <th>IncidentDate</th>\n",
       "      <th>location</th>\n",
       "      <th>lat</th>\n",
       "      <th>lng</th>\n",
       "      <th>description</th>\n",
       "      <th>geometry</th>\n",
       "    </tr>\n",
       "  </thead>\n",
       "  <tbody>\n",
       "    <tr>\n",
       "      <th>0</th>\n",
       "      <td>5/3/2020 16:31</td>\n",
       "      <td>901 KENWICK CT W</td>\n",
       "      <td>36.046877</td>\n",
       "      <td>-86.962526</td>\n",
       "      <td>ELECTRICAL HAZARD</td>\n",
       "      <td>POINT (-86.96252641 36.04687715)</td>\n",
       "    </tr>\n",
       "    <tr>\n",
       "      <th>1</th>\n",
       "      <td>5/3/2020 16:32</td>\n",
       "      <td>8036 ARBOR DR</td>\n",
       "      <td>36.082491</td>\n",
       "      <td>-86.940680</td>\n",
       "      <td>ELECTRICAL HAZARD</td>\n",
       "      <td>POINT (-86.94067952 36.08249081)</td>\n",
       "    </tr>\n",
       "    <tr>\n",
       "      <th>2</th>\n",
       "      <td>5/3/2020 16:32</td>\n",
       "      <td>119 DUE WEST AV E</td>\n",
       "      <td>36.248029</td>\n",
       "      <td>-86.716875</td>\n",
       "      <td>NOT ALERT COPD</td>\n",
       "      <td>POINT (-86.71687484 36.24802948)</td>\n",
       "    </tr>\n",
       "  </tbody>\n",
       "</table>\n",
       "</div>"
      ],
      "text/plain": [
       "     IncidentDate           location        lat        lng        description  \\\n",
       "0  5/3/2020 16:31   901 KENWICK CT W  36.046877 -86.962526  ELECTRICAL HAZARD   \n",
       "1  5/3/2020 16:32      8036 ARBOR DR  36.082491 -86.940680  ELECTRICAL HAZARD   \n",
       "2  5/3/2020 16:32  119 DUE WEST AV E  36.248029 -86.716875     NOT ALERT COPD   \n",
       "\n",
       "                           geometry  \n",
       "0  POINT (-86.96252641 36.04687715)  \n",
       "1  POINT (-86.94067952 36.08249081)  \n",
       "2  POINT (-86.71687484 36.24802948)  "
      ]
     },
     "execution_count": 283,
     "metadata": {},
     "output_type": "execute_result"
    }
   ],
   "source": [
    "Der_incident['geometry']=Der_incident.apply(lambda x: Point((float(x.lng), \n",
    "                                                         float(x.lat))), \n",
    "                                        axis=1)\n",
    "Der_incident.head(3)"
   ]
  },
  {
   "cell_type": "code",
   "execution_count": 284,
   "id": "1a8d4b22",
   "metadata": {},
   "outputs": [
    {
     "data": {
      "text/html": [
       "<div>\n",
       "<style scoped>\n",
       "    .dataframe tbody tr th:only-of-type {\n",
       "        vertical-align: middle;\n",
       "    }\n",
       "\n",
       "    .dataframe tbody tr th {\n",
       "        vertical-align: top;\n",
       "    }\n",
       "\n",
       "    .dataframe thead th {\n",
       "        text-align: right;\n",
       "    }\n",
       "</style>\n",
       "<table border=\"1\" class=\"dataframe\">\n",
       "  <thead>\n",
       "    <tr style=\"text-align: right;\">\n",
       "      <th></th>\n",
       "      <th>IncidentDate</th>\n",
       "      <th>Location</th>\n",
       "      <th>Latitude1</th>\n",
       "      <th>Longitude1</th>\n",
       "      <th>IncidentTypeDescription1</th>\n",
       "    </tr>\n",
       "  </thead>\n",
       "  <tbody>\n",
       "    <tr>\n",
       "      <th>0</th>\n",
       "      <td>3/3/2020 0:36</td>\n",
       "      <td>6205 COCKRILL BEND CIR</td>\n",
       "      <td>36.182002</td>\n",
       "      <td>-86.894052</td>\n",
       "      <td>GENERAL ALARM COMMERCIAL   INDUSTRIAL BUILD</td>\n",
       "    </tr>\n",
       "    <tr>\n",
       "      <th>1</th>\n",
       "      <td>3/3/2020 0:37</td>\n",
       "      <td>7337 COCKRILL BEND BLVD</td>\n",
       "      <td>36.175666</td>\n",
       "      <td>-86.894978</td>\n",
       "      <td>GENERAL ALARM COMMERCIAL   INDUSTRIAL BUILD</td>\n",
       "    </tr>\n",
       "    <tr>\n",
       "      <th>2</th>\n",
       "      <td>3/3/2020 0:38</td>\n",
       "      <td>110 TUNE AIRPORT DR</td>\n",
       "      <td>36.179299</td>\n",
       "      <td>-86.883727</td>\n",
       "      <td>STRUCTURE FIRE COMMERCIAL   INDUSTRIAL</td>\n",
       "    </tr>\n",
       "    <tr>\n",
       "      <th>3</th>\n",
       "      <td>3/3/2020 0:39</td>\n",
       "      <td>555 MARRIOTT DR</td>\n",
       "      <td>36.151108</td>\n",
       "      <td>-86.689921</td>\n",
       "      <td>GENERAL ALARM COMMERCIAL   INDUSTRIAL BUILD</td>\n",
       "    </tr>\n",
       "    <tr>\n",
       "      <th>4</th>\n",
       "      <td>3/3/2020 0:39</td>\n",
       "      <td>1414 COUNTY HOSPITAL RD</td>\n",
       "      <td>36.177926</td>\n",
       "      <td>-86.845934</td>\n",
       "      <td>GENERAL ALARM COMMERCIAL   INDUSTRIAL BUILD</td>\n",
       "    </tr>\n",
       "  </tbody>\n",
       "</table>\n",
       "</div>"
      ],
      "text/plain": [
       "    IncidentDate                  Location  Latitude1  Longitude1  \\\n",
       "0  3/3/2020 0:36   6205 COCKRILL BEND CIR   36.182002  -86.894052   \n",
       "1  3/3/2020 0:37  7337 COCKRILL BEND BLVD   36.175666  -86.894978   \n",
       "2  3/3/2020 0:38      110 TUNE AIRPORT DR   36.179299  -86.883727   \n",
       "3  3/3/2020 0:39          555 MARRIOTT DR   36.151108  -86.689921   \n",
       "4  3/3/2020 0:39  1414 COUNTY HOSPITAL RD   36.177926  -86.845934   \n",
       "\n",
       "                      IncidentTypeDescription1  \n",
       "0  GENERAL ALARM COMMERCIAL   INDUSTRIAL BUILD  \n",
       "1  GENERAL ALARM COMMERCIAL   INDUSTRIAL BUILD  \n",
       "2       STRUCTURE FIRE COMMERCIAL   INDUSTRIAL  \n",
       "3  GENERAL ALARM COMMERCIAL   INDUSTRIAL BUILD  \n",
       "4  GENERAL ALARM COMMERCIAL   INDUSTRIAL BUILD  "
      ]
     },
     "execution_count": 284,
     "metadata": {},
     "output_type": "execute_result"
    }
   ],
   "source": [
    "##From: 3/3/2020 12:30:00 AM  To:  3/3/2020 5:00:00 AM\n",
    "Tor_incident.head()"
   ]
  },
  {
   "cell_type": "code",
   "execution_count": 285,
   "id": "708f7d02",
   "metadata": {},
   "outputs": [],
   "source": [
    "     Tor_incident=Tor_incident.rename(columns={'incidentDate':'date','Latitude1':'lat','Longitude1':'lng','Location':'location','IncidentTypeDescription1':'description'})                              "
   ]
  },
  {
   "cell_type": "code",
   "execution_count": 286,
   "id": "ff04163b",
   "metadata": {},
   "outputs": [
    {
     "data": {
      "text/html": [
       "<div>\n",
       "<style scoped>\n",
       "    .dataframe tbody tr th:only-of-type {\n",
       "        vertical-align: middle;\n",
       "    }\n",
       "\n",
       "    .dataframe tbody tr th {\n",
       "        vertical-align: top;\n",
       "    }\n",
       "\n",
       "    .dataframe thead th {\n",
       "        text-align: right;\n",
       "    }\n",
       "</style>\n",
       "<table border=\"1\" class=\"dataframe\">\n",
       "  <thead>\n",
       "    <tr style=\"text-align: right;\">\n",
       "      <th></th>\n",
       "      <th>IncidentDate</th>\n",
       "      <th>location</th>\n",
       "      <th>lat</th>\n",
       "      <th>lng</th>\n",
       "      <th>description</th>\n",
       "    </tr>\n",
       "  </thead>\n",
       "  <tbody>\n",
       "    <tr>\n",
       "      <th>0</th>\n",
       "      <td>3/3/2020 0:36</td>\n",
       "      <td>6205 COCKRILL BEND CIR</td>\n",
       "      <td>36.182002</td>\n",
       "      <td>-86.894052</td>\n",
       "      <td>GENERAL ALARM COMMERCIAL   INDUSTRIAL BUILD</td>\n",
       "    </tr>\n",
       "    <tr>\n",
       "      <th>1</th>\n",
       "      <td>3/3/2020 0:37</td>\n",
       "      <td>7337 COCKRILL BEND BLVD</td>\n",
       "      <td>36.175666</td>\n",
       "      <td>-86.894978</td>\n",
       "      <td>GENERAL ALARM COMMERCIAL   INDUSTRIAL BUILD</td>\n",
       "    </tr>\n",
       "  </tbody>\n",
       "</table>\n",
       "</div>"
      ],
      "text/plain": [
       "    IncidentDate                  location        lat        lng  \\\n",
       "0  3/3/2020 0:36   6205 COCKRILL BEND CIR   36.182002 -86.894052   \n",
       "1  3/3/2020 0:37  7337 COCKRILL BEND BLVD   36.175666 -86.894978   \n",
       "\n",
       "                                   description  \n",
       "0  GENERAL ALARM COMMERCIAL   INDUSTRIAL BUILD  \n",
       "1  GENERAL ALARM COMMERCIAL   INDUSTRIAL BUILD  "
      ]
     },
     "execution_count": 286,
     "metadata": {},
     "output_type": "execute_result"
    }
   ],
   "source": [
    "     Tor_incident.head(2)\n",
    "                      "
   ]
  },
  {
   "cell_type": "code",
   "execution_count": 287,
   "id": "b14956e4",
   "metadata": {},
   "outputs": [
    {
     "data": {
      "text/html": [
       "<div>\n",
       "<style scoped>\n",
       "    .dataframe tbody tr th:only-of-type {\n",
       "        vertical-align: middle;\n",
       "    }\n",
       "\n",
       "    .dataframe tbody tr th {\n",
       "        vertical-align: top;\n",
       "    }\n",
       "\n",
       "    .dataframe thead th {\n",
       "        text-align: right;\n",
       "    }\n",
       "</style>\n",
       "<table border=\"1\" class=\"dataframe\">\n",
       "  <thead>\n",
       "    <tr style=\"text-align: right;\">\n",
       "      <th></th>\n",
       "      <th>IncidentDate</th>\n",
       "      <th>location</th>\n",
       "      <th>lat</th>\n",
       "      <th>lng</th>\n",
       "      <th>description</th>\n",
       "      <th>geometry</th>\n",
       "    </tr>\n",
       "  </thead>\n",
       "  <tbody>\n",
       "    <tr>\n",
       "      <th>0</th>\n",
       "      <td>3/3/2020 0:36</td>\n",
       "      <td>6205 COCKRILL BEND CIR</td>\n",
       "      <td>36.182002</td>\n",
       "      <td>-86.894052</td>\n",
       "      <td>GENERAL ALARM COMMERCIAL   INDUSTRIAL BUILD</td>\n",
       "      <td>POINT (-86.89405212 36.18200191)</td>\n",
       "    </tr>\n",
       "    <tr>\n",
       "      <th>1</th>\n",
       "      <td>3/3/2020 0:37</td>\n",
       "      <td>7337 COCKRILL BEND BLVD</td>\n",
       "      <td>36.175666</td>\n",
       "      <td>-86.894978</td>\n",
       "      <td>GENERAL ALARM COMMERCIAL   INDUSTRIAL BUILD</td>\n",
       "      <td>POINT (-86.89497756999999 36.175666)</td>\n",
       "    </tr>\n",
       "    <tr>\n",
       "      <th>2</th>\n",
       "      <td>3/3/2020 0:38</td>\n",
       "      <td>110 TUNE AIRPORT DR</td>\n",
       "      <td>36.179299</td>\n",
       "      <td>-86.883727</td>\n",
       "      <td>STRUCTURE FIRE COMMERCIAL   INDUSTRIAL</td>\n",
       "      <td>POINT (-86.8837274 36.17929946)</td>\n",
       "    </tr>\n",
       "  </tbody>\n",
       "</table>\n",
       "</div>"
      ],
      "text/plain": [
       "    IncidentDate                  location        lat        lng  \\\n",
       "0  3/3/2020 0:36   6205 COCKRILL BEND CIR   36.182002 -86.894052   \n",
       "1  3/3/2020 0:37  7337 COCKRILL BEND BLVD   36.175666 -86.894978   \n",
       "2  3/3/2020 0:38      110 TUNE AIRPORT DR   36.179299 -86.883727   \n",
       "\n",
       "                                   description  \\\n",
       "0  GENERAL ALARM COMMERCIAL   INDUSTRIAL BUILD   \n",
       "1  GENERAL ALARM COMMERCIAL   INDUSTRIAL BUILD   \n",
       "2       STRUCTURE FIRE COMMERCIAL   INDUSTRIAL   \n",
       "\n",
       "                               geometry  \n",
       "0      POINT (-86.89405212 36.18200191)  \n",
       "1  POINT (-86.89497756999999 36.175666)  \n",
       "2       POINT (-86.8837274 36.17929946)  "
      ]
     },
     "execution_count": 287,
     "metadata": {},
     "output_type": "execute_result"
    }
   ],
   "source": [
    "Tor_incident['geometry']=Tor_incident.apply(lambda x: Point((float(x.lng), \n",
    "                                                         float(x.lat))), \n",
    "                                        axis=1)\n",
    "Tor_incident.head(3)"
   ]
  },
  {
   "cell_type": "code",
   "execution_count": 289,
   "id": "223f54e1",
   "metadata": {},
   "outputs": [],
   "source": [
    "damage_point=gpd.read_file('../data/damage_points.geojson')\n",
    "path_polygon=gpd.read_file('../data/path_polygons.geojson')\n",
    "tornado_path=gpd.read_file('../data/tornado_paths.geojson')\n"
   ]
  },
  {
   "cell_type": "code",
   "execution_count": 290,
   "id": "71ec8f15",
   "metadata": {
    "scrolled": true
   },
   "outputs": [
    {
     "data": {
      "text/html": [
       "<div>\n",
       "<style scoped>\n",
       "    .dataframe tbody tr th:only-of-type {\n",
       "        vertical-align: middle;\n",
       "    }\n",
       "\n",
       "    .dataframe tbody tr th {\n",
       "        vertical-align: top;\n",
       "    }\n",
       "\n",
       "    .dataframe thead th {\n",
       "        text-align: right;\n",
       "    }\n",
       "</style>\n",
       "<table border=\"1\" class=\"dataframe\">\n",
       "  <thead>\n",
       "    <tr style=\"text-align: right;\">\n",
       "      <th></th>\n",
       "      <th>objectid</th>\n",
       "      <th>stormdate</th>\n",
       "      <th>surveydate</th>\n",
       "      <th>event_id</th>\n",
       "      <th>damage</th>\n",
       "      <th>damage_txt</th>\n",
       "      <th>dod_txt</th>\n",
       "      <th>efscale</th>\n",
       "      <th>damage_dir</th>\n",
       "      <th>windspeed</th>\n",
       "      <th>...</th>\n",
       "      <th>device_id</th>\n",
       "      <th>qc</th>\n",
       "      <th>dod</th>\n",
       "      <th>surveytype</th>\n",
       "      <th>globalid</th>\n",
       "      <th>edit_user</th>\n",
       "      <th>edit_time</th>\n",
       "      <th>comments</th>\n",
       "      <th>path_guid</th>\n",
       "      <th>geometry</th>\n",
       "    </tr>\n",
       "  </thead>\n",
       "  <tbody>\n",
       "    <tr>\n",
       "      <th>0</th>\n",
       "      <td>2047717</td>\n",
       "      <td>1583218620000</td>\n",
       "      <td>1583335680000</td>\n",
       "      <td>Mount Juliet</td>\n",
       "      <td>2</td>\n",
       "      <td>One- or Two-Family Residences (FR12)</td>\n",
       "      <td>All walls collapsed</td>\n",
       "      <td>EF3</td>\n",
       "      <td>N/A</td>\n",
       "      <td>155</td>\n",
       "      <td>...</td>\n",
       "      <td>None</td>\n",
       "      <td>Y</td>\n",
       "      <td>9</td>\n",
       "      <td>None</td>\n",
       "      <td>{FE82BBAC-ABF8-4562-81F6-A527829FBFFE}</td>\n",
       "      <td>None</td>\n",
       "      <td>None</td>\n",
       "      <td>none</td>\n",
       "      <td>None</td>\n",
       "      <td>POINT (-86.51628 36.18344)</td>\n",
       "    </tr>\n",
       "    <tr>\n",
       "      <th>1</th>\n",
       "      <td>2047909</td>\n",
       "      <td>1583221860000</td>\n",
       "      <td>1583437860000</td>\n",
       "      <td>Cookeville</td>\n",
       "      <td>27</td>\n",
       "      <td>Trees: Hardwood (TH)</td>\n",
       "      <td>Trees uprooted</td>\n",
       "      <td>EF0</td>\n",
       "      <td>N/A</td>\n",
       "      <td>80</td>\n",
       "      <td>...</td>\n",
       "      <td>None</td>\n",
       "      <td>Y</td>\n",
       "      <td>3</td>\n",
       "      <td>None</td>\n",
       "      <td>{2417B433-0C00-4D6C-A059-45E0CFDA2AF6}</td>\n",
       "      <td>None</td>\n",
       "      <td>None</td>\n",
       "      <td>none</td>\n",
       "      <td>None</td>\n",
       "      <td>POINT (-85.60552 36.17308)</td>\n",
       "    </tr>\n",
       "  </tbody>\n",
       "</table>\n",
       "<p>2 rows × 27 columns</p>\n",
       "</div>"
      ],
      "text/plain": [
       "   objectid      stormdate     surveydate      event_id  damage  \\\n",
       "0   2047717  1583218620000  1583335680000  Mount Juliet       2   \n",
       "1   2047909  1583221860000  1583437860000    Cookeville      27   \n",
       "\n",
       "                             damage_txt              dod_txt efscale  \\\n",
       "0  One- or Two-Family Residences (FR12)  All walls collapsed     EF3   \n",
       "1                  Trees: Hardwood (TH)       Trees uprooted     EF0   \n",
       "\n",
       "  damage_dir windspeed  ...  device_id  qc  dod  surveytype  \\\n",
       "0        N/A       155  ...       None   Y    9        None   \n",
       "1        N/A        80  ...       None   Y    3        None   \n",
       "\n",
       "                                 globalid edit_user edit_time comments  \\\n",
       "0  {FE82BBAC-ABF8-4562-81F6-A527829FBFFE}      None      None     none   \n",
       "1  {2417B433-0C00-4D6C-A059-45E0CFDA2AF6}      None      None     none   \n",
       "\n",
       "  path_guid                    geometry  \n",
       "0      None  POINT (-86.51628 36.18344)  \n",
       "1      None  POINT (-85.60552 36.17308)  \n",
       "\n",
       "[2 rows x 27 columns]"
      ]
     },
     "execution_count": 290,
     "metadata": {},
     "output_type": "execute_result"
    }
   ],
   "source": [
    "damage_point.head(2)\n"
   ]
  },
  {
   "cell_type": "code",
   "execution_count": 291,
   "id": "f7482565",
   "metadata": {},
   "outputs": [
    {
     "data": {
      "text/plain": [
       "<AxesSubplot:>"
      ]
     },
     "execution_count": 291,
     "metadata": {},
     "output_type": "execute_result"
    },
    {
     "data": {
      "image/png": "[encoded data removed]",
      "text/plain": [
       "<Figure size 432x288 with 1 Axes>"
      ]
     },
     "metadata": {
      "needs_background": "light"
     },
     "output_type": "display_data"
    }
   ],
   "source": [
    "damage_point.plot()"
   ]
  },
  {
   "cell_type": "code",
   "execution_count": 292,
   "id": "1118fd66",
   "metadata": {},
   "outputs": [
    {
     "data": {
      "text/html": [
       "<div>\n",
       "<style scoped>\n",
       "    .dataframe tbody tr th:only-of-type {\n",
       "        vertical-align: middle;\n",
       "    }\n",
       "\n",
       "    .dataframe tbody tr th {\n",
       "        vertical-align: top;\n",
       "    }\n",
       "\n",
       "    .dataframe thead th {\n",
       "        text-align: right;\n",
       "    }\n",
       "</style>\n",
       "<table border=\"1\" class=\"dataframe\">\n",
       "  <thead>\n",
       "    <tr style=\"text-align: right;\">\n",
       "      <th></th>\n",
       "      <th>efscale</th>\n",
       "      <th>geometry</th>\n",
       "    </tr>\n",
       "  </thead>\n",
       "  <tbody>\n",
       "    <tr>\n",
       "      <th>0</th>\n",
       "      <td>EF3</td>\n",
       "      <td>POLYGON ((-85.59922 36.17660, -85.59840 36.176...</td>\n",
       "    </tr>\n",
       "    <tr>\n",
       "      <th>1</th>\n",
       "      <td>EF1</td>\n",
       "      <td>POLYGON ((-85.52390 36.17189, -85.52430 36.171...</td>\n",
       "    </tr>\n",
       "    <tr>\n",
       "      <th>2</th>\n",
       "      <td>EF1</td>\n",
       "      <td>POLYGON ((-85.61527 36.17529, -85.61403 36.175...</td>\n",
       "    </tr>\n",
       "    <tr>\n",
       "      <th>3</th>\n",
       "      <td>EF3</td>\n",
       "      <td>POLYGON ((-85.55185 36.17398, -85.55184 36.173...</td>\n",
       "    </tr>\n",
       "    <tr>\n",
       "      <th>4</th>\n",
       "      <td>EF0</td>\n",
       "      <td>POLYGON ((-86.94788 36.17248, -86.94582 36.172...</td>\n",
       "    </tr>\n",
       "  </tbody>\n",
       "</table>\n",
       "</div>"
      ],
      "text/plain": [
       "  efscale                                           geometry\n",
       "0     EF3  POLYGON ((-85.59922 36.17660, -85.59840 36.176...\n",
       "1     EF1  POLYGON ((-85.52390 36.17189, -85.52430 36.171...\n",
       "2     EF1  POLYGON ((-85.61527 36.17529, -85.61403 36.175...\n",
       "3     EF3  POLYGON ((-85.55185 36.17398, -85.55184 36.173...\n",
       "4     EF0  POLYGON ((-86.94788 36.17248, -86.94582 36.172..."
      ]
     },
     "execution_count": 292,
     "metadata": {},
     "output_type": "execute_result"
    }
   ],
   "source": [
    "path_polygon.head()"
   ]
  },
  {
   "cell_type": "code",
   "execution_count": 294,
   "id": "d431f6f1",
   "metadata": {},
   "outputs": [
    {
     "data": {
      "text/plain": [
       "<AxesSubplot:>"
      ]
     },
     "execution_count": 294,
     "metadata": {},
     "output_type": "execute_result"
    },
    {
     "data": {
      "image/png": "[encoded data removed]",
      "text/plain": [
       "<Figure size 432x288 with 1 Axes>"
      ]
     },
     "metadata": {
      "needs_background": "light"
     },
     "output_type": "display_data"
    }
   ],
   "source": [
    "path_polygon.plot()"
   ]
  },
  {
   "cell_type": "code",
   "execution_count": 297,
   "id": "cd4e7330",
   "metadata": {},
   "outputs": [
    {
     "data": {
      "image/png": "[encoded data removed]",
      "text/plain": [
       "<Figure size 720x720 with 1 Axes>"
      ]
     },
     "metadata": {
      "needs_background": "light"
     },
     "output_type": "display_data"
    }
   ],
   "source": [
    "leg_kwds = {'title': 'efscale', 'loc': 'upper left', \n",
    "            'bbox_to_anchor': (1, 1.03), 'ncol': 1}\n",
    "\n",
    "path_polygon.plot(column ='efscale', figsize=(10, 10),\n",
    "              edgecolor = 'black',\n",
    "              legend = True, legend_kwds = leg_kwds, \n",
    "              cmap = 'Set3')\n",
    "plt.show()"
   ]
  },
  {
   "cell_type": "code",
   "execution_count": 295,
   "id": "593798c7",
   "metadata": {},
   "outputs": [
    {
     "data": {
      "text/html": [
       "<div>\n",
       "<style scoped>\n",
       "    .dataframe tbody tr th:only-of-type {\n",
       "        vertical-align: middle;\n",
       "    }\n",
       "\n",
       "    .dataframe tbody tr th {\n",
       "        vertical-align: top;\n",
       "    }\n",
       "\n",
       "    .dataframe thead th {\n",
       "        text-align: right;\n",
       "    }\n",
       "</style>\n",
       "<table border=\"1\" class=\"dataframe\">\n",
       "  <thead>\n",
       "    <tr style=\"text-align: right;\">\n",
       "      <th></th>\n",
       "      <th>objectid</th>\n",
       "      <th>event_id</th>\n",
       "      <th>stormdate</th>\n",
       "      <th>starttime</th>\n",
       "      <th>endtime</th>\n",
       "      <th>startlat</th>\n",
       "      <th>startlon</th>\n",
       "      <th>endlat</th>\n",
       "      <th>endlon</th>\n",
       "      <th>length</th>\n",
       "      <th>...</th>\n",
       "      <th>propdamage</th>\n",
       "      <th>edit_user</th>\n",
       "      <th>edit_time</th>\n",
       "      <th>created_user</th>\n",
       "      <th>created_date</th>\n",
       "      <th>last_edited_user</th>\n",
       "      <th>last_edited_date</th>\n",
       "      <th>comments</th>\n",
       "      <th>Shape__Length</th>\n",
       "      <th>geometry</th>\n",
       "    </tr>\n",
       "  </thead>\n",
       "  <tbody>\n",
       "    <tr>\n",
       "      <th>0</th>\n",
       "      <td>879879</td>\n",
       "      <td>Nashville</td>\n",
       "      <td>1583217120000</td>\n",
       "      <td>1583217120000</td>\n",
       "      <td>1583220900000</td>\n",
       "      <td>36.1725</td>\n",
       "      <td>-86.9478</td>\n",
       "      <td>36.1532</td>\n",
       "      <td>-85.8860</td>\n",
       "      <td>60.1317</td>\n",
       "      <td>...</td>\n",
       "      <td>-99</td>\n",
       "      <td>None</td>\n",
       "      <td>None</td>\n",
       "      <td>DATians</td>\n",
       "      <td>1583461561000</td>\n",
       "      <td>dat_editor</td>\n",
       "      <td>1618703241000</td>\n",
       "      <td>An historic, long-track, strong EF-3 tornado b...</td>\n",
       "      <td>1.071075</td>\n",
       "      <td>LINESTRING (-86.94783 36.17249, -86.94461 36.1...</td>\n",
       "    </tr>\n",
       "    <tr>\n",
       "      <th>1</th>\n",
       "      <td>879077</td>\n",
       "      <td>Hwy 69 Ballpark Tornado</td>\n",
       "      <td>1583237040000</td>\n",
       "      <td>1583237040000</td>\n",
       "      <td>1583237520000</td>\n",
       "      <td>32.6846</td>\n",
       "      <td>-87.6226</td>\n",
       "      <td>32.6863</td>\n",
       "      <td>-87.5492</td>\n",
       "      <td>4.3400</td>\n",
       "      <td>...</td>\n",
       "      <td>-99</td>\n",
       "      <td>None</td>\n",
       "      <td>None</td>\n",
       "      <td>DATians</td>\n",
       "      <td>1583353305000</td>\n",
       "      <td>DATians</td>\n",
       "      <td>1583358165000</td>\n",
       "      <td>None</td>\n",
       "      <td>0.074159</td>\n",
       "      <td>LINESTRING (-87.62263 32.68464, -87.62182 32.6...</td>\n",
       "    </tr>\n",
       "    <tr>\n",
       "      <th>2</th>\n",
       "      <td>879081</td>\n",
       "      <td>Lawley Tornado</td>\n",
       "      <td>1583238480000</td>\n",
       "      <td>1583238480000</td>\n",
       "      <td>1583239080000</td>\n",
       "      <td>32.8648</td>\n",
       "      <td>-87.0496</td>\n",
       "      <td>32.8646</td>\n",
       "      <td>-86.9432</td>\n",
       "      <td>6.2100</td>\n",
       "      <td>...</td>\n",
       "      <td>-99</td>\n",
       "      <td>None</td>\n",
       "      <td>None</td>\n",
       "      <td>DATians</td>\n",
       "      <td>1583357522000</td>\n",
       "      <td>DATians</td>\n",
       "      <td>1583359203000</td>\n",
       "      <td>Path</td>\n",
       "      <td>0.106695</td>\n",
       "      <td>LINESTRING (-87.04956 32.86476, -87.04019 32.8...</td>\n",
       "    </tr>\n",
       "    <tr>\n",
       "      <th>3</th>\n",
       "      <td>879877</td>\n",
       "      <td>Cookeville</td>\n",
       "      <td>1583221680000</td>\n",
       "      <td>1583221680000</td>\n",
       "      <td>1583222160000</td>\n",
       "      <td>36.1715</td>\n",
       "      <td>-85.6628</td>\n",
       "      <td>36.1709</td>\n",
       "      <td>-85.5135</td>\n",
       "      <td>8.3900</td>\n",
       "      <td>...</td>\n",
       "      <td>100000</td>\n",
       "      <td>None</td>\n",
       "      <td>None</td>\n",
       "      <td>DATians</td>\n",
       "      <td>1583461208000</td>\n",
       "      <td>DATians</td>\n",
       "      <td>1590771008000</td>\n",
       "      <td>An historic, violent EF-4 tornado began in wes...</td>\n",
       "      <td>0.149870</td>\n",
       "      <td>LINESTRING (-85.66285 36.17151, -85.61103 36.1...</td>\n",
       "    </tr>\n",
       "    <tr>\n",
       "      <th>4</th>\n",
       "      <td>879878</td>\n",
       "      <td>Goffton</td>\n",
       "      <td>1583222700000</td>\n",
       "      <td>1583222700000</td>\n",
       "      <td>1583222760000</td>\n",
       "      <td>36.1075</td>\n",
       "      <td>-85.4461</td>\n",
       "      <td>36.1068</td>\n",
       "      <td>-85.4420</td>\n",
       "      <td>0.2300</td>\n",
       "      <td>...</td>\n",
       "      <td>-99</td>\n",
       "      <td>None</td>\n",
       "      <td>None</td>\n",
       "      <td>DATians</td>\n",
       "      <td>1583461360000</td>\n",
       "      <td>DATians</td>\n",
       "      <td>1590604073000</td>\n",
       "      <td>A very brief and weak EF-0 tornado touched dow...</td>\n",
       "      <td>0.004130</td>\n",
       "      <td>LINESTRING (-85.44610 36.10746, -85.44203 36.1...</td>\n",
       "    </tr>\n",
       "  </tbody>\n",
       "</table>\n",
       "<p>5 rows × 29 columns</p>\n",
       "</div>"
      ],
      "text/plain": [
       "   objectid                 event_id      stormdate      starttime  \\\n",
       "0    879879                Nashville  1583217120000  1583217120000   \n",
       "1    879077  Hwy 69 Ballpark Tornado  1583237040000  1583237040000   \n",
       "2    879081           Lawley Tornado  1583238480000  1583238480000   \n",
       "3    879877               Cookeville  1583221680000  1583221680000   \n",
       "4    879878                  Goffton  1583222700000  1583222700000   \n",
       "\n",
       "         endtime  startlat  startlon   endlat   endlon   length  ...  \\\n",
       "0  1583220900000   36.1725  -86.9478  36.1532 -85.8860  60.1317  ...   \n",
       "1  1583237520000   32.6846  -87.6226  32.6863 -87.5492   4.3400  ...   \n",
       "2  1583239080000   32.8648  -87.0496  32.8646 -86.9432   6.2100  ...   \n",
       "3  1583222160000   36.1715  -85.6628  36.1709 -85.5135   8.3900  ...   \n",
       "4  1583222760000   36.1075  -85.4461  36.1068 -85.4420   0.2300  ...   \n",
       "\n",
       "   propdamage  edit_user  edit_time created_user   created_date  \\\n",
       "0         -99       None       None      DATians  1583461561000   \n",
       "1         -99       None       None      DATians  1583353305000   \n",
       "2         -99       None       None      DATians  1583357522000   \n",
       "3      100000       None       None      DATians  1583461208000   \n",
       "4         -99       None       None      DATians  1583461360000   \n",
       "\n",
       "  last_edited_user  last_edited_date  \\\n",
       "0       dat_editor     1618703241000   \n",
       "1          DATians     1583358165000   \n",
       "2          DATians     1583359203000   \n",
       "3          DATians     1590771008000   \n",
       "4          DATians     1590604073000   \n",
       "\n",
       "                                            comments  Shape__Length  \\\n",
       "0  An historic, long-track, strong EF-3 tornado b...       1.071075   \n",
       "1                                               None       0.074159   \n",
       "2                                               Path       0.106695   \n",
       "3  An historic, violent EF-4 tornado began in wes...       0.149870   \n",
       "4  A very brief and weak EF-0 tornado touched dow...       0.004130   \n",
       "\n",
       "                                            geometry  \n",
       "0  LINESTRING (-86.94783 36.17249, -86.94461 36.1...  \n",
       "1  LINESTRING (-87.62263 32.68464, -87.62182 32.6...  \n",
       "2  LINESTRING (-87.04956 32.86476, -87.04019 32.8...  \n",
       "3  LINESTRING (-85.66285 36.17151, -85.61103 36.1...  \n",
       "4  LINESTRING (-85.44610 36.10746, -85.44203 36.1...  \n",
       "\n",
       "[5 rows x 29 columns]"
      ]
     },
     "execution_count": 295,
     "metadata": {},
     "output_type": "execute_result"
    }
   ],
   "source": [
    "tornado_path.head()"
   ]
  },
  {
   "cell_type": "code",
   "execution_count": 296,
   "id": "5ff02bc1",
   "metadata": {},
   "outputs": [
    {
     "data": {
      "text/plain": [
       "<AxesSubplot:>"
      ]
     },
     "execution_count": 296,
     "metadata": {},
     "output_type": "execute_result"
    },
    {
     "data": {
      "image/png": "[encoded data removed]",
      "text/plain": [
       "<Figure size 432x288 with 1 Axes>"
      ]
     },
     "metadata": {
      "needs_background": "light"
     },
     "output_type": "display_data"
    }
   ],
   "source": [
    "tornado_path.plot()"
   ]
  },
  {
   "cell_type": "code",
   "execution_count": null,
   "id": "4d40fa5c",
   "metadata": {},
   "outputs": [],
   "source": []
  }
 ],
 "metadata": {
  "kernelspec": {
   "display_name": "Python 3 (ipykernel)",
   "language": "python",
   "name": "python3"
  },
  "language_info": {
   "codemirror_mode": {
    "name": "ipython",
    "version": 3
   },
   "file_extension": ".py",
   "mimetype": "text/x-python",
   "name": "python",
   "nbconvert_exporter": "python",
   "pygments_lexer": "ipython3",
   "version": "3.8.5"
  }
 },
 "nbformat": 4,
 "nbformat_minor": 5
}
