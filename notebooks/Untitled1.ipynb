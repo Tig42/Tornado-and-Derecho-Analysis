{
 "cells": [
  {
   "cell_type": "code",
   "execution_count": 1,
   "id": "7d1397d4",
   "metadata": {},
   "outputs": [],
   "source": [
    "import numpy as np"
   ]
  },
  {
   "cell_type": "code",
   "execution_count": 5,
   "id": "f81aebbb",
   "metadata": {},
   "outputs": [
    {
     "data": {
      "text/plain": [
       "0.44475782194539304"
      ]
     },
     "execution_count": 5,
     "metadata": {},
     "output_type": "execute_result"
    }
   ],
   "source": [
    "np.random.rand ()"
   ]
  },
  {
   "cell_type": "code",
   "execution_count": 10,
   "id": "6ec002e0",
   "metadata": {},
   "outputs": [
    {
     "data": {
      "text/plain": [
       "array([0.17752023, 0.02991227, 0.15499489, 0.29784067, 0.99115077,\n",
       "       0.80094003, 0.63299525, 0.97551746, 0.84395353, 0.76782894,\n",
       "       0.35902338, 0.50442873, 0.78546192, 0.06166385, 0.23533325,\n",
       "       0.19538666, 0.61235888, 0.12800754, 0.44376192, 0.20156008,\n",
       "       0.49597776, 0.27526594, 0.13815732, 0.24351405, 0.26618509,\n",
       "       0.39048377, 0.16011719, 0.48617732, 0.41273436, 0.95083268,\n",
       "       0.66887102, 0.90289396, 0.56583895, 0.30518186, 0.21830378,\n",
       "       0.69251977, 0.60622026, 0.87119081, 0.184622  , 0.72096831,\n",
       "       0.87156199, 0.56920914, 0.78805037, 0.32528288, 0.59045263,\n",
       "       0.70945028, 0.35865424, 0.80814254, 0.01764123, 0.51710782,\n",
       "       0.72475979, 0.42140862, 0.86981697, 0.75866253, 0.34724763,\n",
       "       0.1616224 , 0.27309423, 0.04798657, 0.28059235, 0.45898696,\n",
       "       0.59540556, 0.64157911, 0.34101661, 0.37496893, 0.37588428,\n",
       "       0.90500225, 0.95497144, 0.43799965, 0.42105724, 0.81912232,\n",
       "       0.24545546, 0.31610085, 0.16006773, 0.31357737, 0.7050783 ,\n",
       "       0.45882261, 0.82720895, 0.46521339, 0.50524412, 0.10299278,\n",
       "       0.962816  , 0.39592158, 0.63384724, 0.88443737, 0.2540666 ,\n",
       "       0.48171045, 0.67670446, 0.4769625 , 0.7907012 , 0.28084477,\n",
       "       0.08816723, 0.47794031, 0.06536693, 0.523402  , 0.66210056,\n",
       "       0.85932727, 0.04466554, 0.31856044, 0.30210533, 0.03364098,\n",
       "       0.02480101, 0.41888461, 0.2366581 , 0.12843148, 0.34065846,\n",
       "       0.25371288, 0.5916178 , 0.72339257, 0.37066611, 0.73958205,\n",
       "       0.55221976, 0.01061814, 0.52788865, 0.87897251, 0.44336006,\n",
       "       0.68159125, 0.48130113, 0.89456706, 0.605563  , 0.56433699,\n",
       "       0.07061652, 0.30927017, 0.75105004])"
      ]
     },
     "execution_count": 10,
     "metadata": {},
     "output_type": "execute_result"
    }
   ],
   "source": [
    "np.random.rand(123)"
   ]
  },
  {
   "cell_type": "code",
   "execution_count": 12,
   "id": "a620ab5b",
   "metadata": {},
   "outputs": [
    {
     "data": {
      "text/plain": [
       "0.6964691855978616"
      ]
     },
     "execution_count": 12,
     "metadata": {},
     "output_type": "execute_result"
    }
   ],
   "source": [
    "np.random.seed (123)\n",
    "np.random.rand ()"
   ]
  },
  {
   "cell_type": "code",
   "execution_count": 13,
   "id": "f314abde",
   "metadata": {},
   "outputs": [
    {
     "data": {
      "text/plain": [
       "0.2487559093571018"
      ]
     },
     "execution_count": 13,
     "metadata": {},
     "output_type": "execute_result"
    }
   ],
   "source": [
    "np.random.seed (456)\n",
    "np.random.rand ()"
   ]
  },
  {
   "cell_type": "code",
   "execution_count": 30,
   "id": "c6a84987",
   "metadata": {},
   "outputs": [
    {
     "name": "stdout",
     "output_type": "stream",
     "text": [
      "0\n",
      "head\n"
     ]
    }
   ],
   "source": [
    "np.random.seed (123)\n",
    "coin= np.random.randint(0,2)\n",
    "print (coin)\n",
    "\n",
    "if coin == 0:\n",
    "    print ('head')\n",
    "else :\n",
    "    print ('tails')"
   ]
  },
  {
   "cell_type": "code",
   "execution_count": null,
   "id": "57c23acf",
   "metadata": {},
   "outputs": [],
   "source": []
  }
 ],
 "metadata": {
  "kernelspec": {
   "display_name": "Python 3",
   "language": "python",
   "name": "python3"
  },
  "language_info": {
   "codemirror_mode": {
    "name": "ipython",
    "version": 3
   },
   "file_extension": ".py",
   "mimetype": "text/x-python",
   "name": "python",
   "nbconvert_exporter": "python",
   "pygments_lexer": "ipython3",
   "version": "3.8.8"
  }
 },
 "nbformat": 4,
 "nbformat_minor": 5
}
